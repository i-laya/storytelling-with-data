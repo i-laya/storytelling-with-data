{
  "nbformat": 4,
  "nbformat_minor": 0,
  "metadata": {
    "kernelspec": {
      "display_name": "Psych 81.09",
      "language": "python",
      "name": "psych81.09"
    },
    "language_info": {
      "codemirror_mode": {
        "name": "ipython",
        "version": 3
      },
      "file_extension": ".py",
      "mimetype": "text/x-python",
      "name": "python",
      "nbconvert_exporter": "python",
      "pygments_lexer": "ipython3",
      "version": "3.6.8"
    },
    "colab": {
      "name": "College Sports & Admissions Story",
      "provenance": [],
      "collapsed_sections": [],
      "include_colab_link": true
    }
  },
  "cells": [
    {
      "cell_type": "markdown",
      "metadata": {
        "id": "view-in-github",
        "colab_type": "text"
      },
      "source": [
        "<a href=\"https://colab.research.google.com/github/i-laya/storytelling-with-data/blob/master/College_Sports_%26_Admissions_Story.ipynb\" target=\"_parent\"><img src=\"https://colab.research.google.com/assets/colab-badge.svg\" alt=\"Open In Colab\"/></a>"
      ]
    },
    {
      "cell_type": "markdown",
      "metadata": {
        "id": "uZ8S_ZIBMMpI"
      },
      "source": [
        "# Setup\n",
        "\n",
        "This demonstration notebook provides a suggested set of libraries that you might find useful in crafting your data stories.  You should comment out or delete libraries that you don't use in your analysis."
      ]
    },
    {
      "cell_type": "code",
      "metadata": {
        "id": "poB_y0KEJcD3",
        "colab": {
          "base_uri": "https://localhost:8080/"
        },
        "outputId": "ab303fd5-56c4-4331-9fbf-951a48476b7e"
      },
      "source": [
        "!pip install git+https://github.com/ContextLab/davos.git\n",
        "import davos #this provides the \"smuggle\" keyword-- used as a more robust version of \"import\""
      ],
      "execution_count": 7,
      "outputs": [
        {
          "output_type": "stream",
          "text": [
            "Collecting git+https://github.com/ContextLab/davos.git\n",
            "  Cloning https://github.com/ContextLab/davos.git to /tmp/pip-req-build-gd_airpb\n",
            "  Running command git clone -q https://github.com/ContextLab/davos.git /tmp/pip-req-build-gd_airpb\n",
            "  Installing build dependencies ... \u001b[?25l\u001b[?25hdone\n",
            "  Getting requirements to build wheel ... \u001b[?25l\u001b[?25hdone\n",
            "    Preparing wheel metadata ... \u001b[?25l\u001b[?25hdone\n",
            "Building wheels for collected packages: davos\n",
            "  Building wheel for davos (PEP 517) ... \u001b[?25l\u001b[?25hdone\n",
            "  Created wheel for davos: filename=davos-0.0.1-cp37-none-any.whl size=37733 sha256=2c5c4b08d4abd156c0610da8c0d670f67d53ae38834c084fac4b5c5fcf7cd5f9\n",
            "  Stored in directory: /tmp/pip-ephem-wheel-cache-_h40ltre/wheels/62/30/bc/79958ce75e105bdcf95c737091e62372429850960d6628e277\n",
            "Successfully built davos\n",
            "Installing collected packages: davos\n",
            "Successfully installed davos-0.0.1\n"
          ],
          "name": "stdout"
        }
      ]
    },
    {
      "cell_type": "code",
      "metadata": {
        "id": "i5X225WPGwDo",
        "colab": {
          "base_uri": "https://localhost:8080/"
        },
        "outputId": "b29d4d47-3731-4f5a-906b-86821a099833"
      },
      "source": [
        "#number crunching\n",
        "smuggle numpy as np\n",
        "smuggle pandas as pd\n",
        "\n",
        "\n",
        "#data import\n",
        "from pydrive.auth smuggle GoogleAuth\n",
        "from pydrive.drive smuggle GoogleDrive\n",
        "from google.colab smuggle auth\n",
        "from oauth2client.client smuggle GoogleCredentials\n",
        "smuggle pandas_datareader as pdr\n",
        "\n",
        "#web scraping\n",
        "#from twitterscraper smuggle query_tweets\n",
        "#from twitterscraper.query smuggle query_tweets_once as query_tweets_advanced\n",
        "#from yahoo_finance smuggle Share\n",
        "\n",
        "#data visualization\n",
        "smuggle plotly # pip: plotly==4.14.3\n",
        "smuggle plotly.express as px\n",
        "#smuggle seaborn as sns\n",
        "#smuggle bokeh as bk\n",
        "from matplotlib smuggle pyplot as plt\n",
        "smuggle plotnine as pn\n",
        "smuggle hypertools as hyp\n",
        "smuggle folium as fm\n",
        "from mpl_toolkits.mplot3d smuggle Axes3D\n",
        "\n",
        "#machine learning and stats\n",
        "#smuggle scipy as sp\n",
        "#smuggle sklearn as sk\n",
        "#smuggle tensorflow as tf\n",
        "#smuggle statsmodels.api as sm\n",
        "\n",
        "#text analysis\n",
        "#smuggle nltk\n",
        "#smuggle textblob as tb\n",
        "#from flair.embeddings smuggle WordEmbeddings, CharacterEmbeddings, StackedEmbeddings, FlairEmbeddings, BertEmbeddings, ELMoEmbeddings, DocumentPoolEmbeddings\n",
        "#from flair.data smuggle Sentence\n",
        "#nltk.download('brown')\n",
        "#nltk.download('punkt')"
      ],
      "execution_count": 8,
      "outputs": [
        {
          "output_type": "stream",
          "text": [
            "Collecting plotly==4.14.3\r\n",
            "\u001b[?25l  Downloading https://files.pythonhosted.org/packages/1f/f6/bd3c17c8003b6641df1228e80e1acac97ed8402635e46c2571f8e1ef63af/plotly-4.14.3-py2.py3-none-any.whl (13.2MB)\n",
            "\u001b[K     |████████████████████████████████| 13.2MB 22.0MB/s \n",
            "\u001b[?25hRequirement already satisfied: six in /usr/local/lib/python3.7/dist-packages (from plotly==4.14.3) (1.15.0)\n",
            "Requirement already satisfied: retrying>=1.3.3 in /usr/local/lib/python3.7/dist-packages (from plotly==4.14.3) (1.3.3)\n",
            "Installing collected packages: plotly\n",
            "  Found existing installation: plotly 4.4.1\n",
            "    Uninstalling plotly-4.4.1:\n",
            "      Successfully uninstalled plotly-4.4.1\n",
            "Successfully installed plotly-4.14.3\n",
            "Collecting hypertools\n",
            "  Downloading https://files.pythonhosted.org/packages/ec/af/0338aca227cc5c0b99cbe5f326b7f6cccb91e157da179eb87bbba4e7ff84/hypertools-0.6.3.tar.gz\n",
            "Collecting PPCA>=0.0.2\n",
            "  Downloading https://files.pythonhosted.org/packages/16/7f/7195bf3742e19076a21a9c3250a4f11c87153bb4ea3dcaf1077678383b76/ppca-0.0.4-py3-none-any.whl\n",
            "Requirement already satisfied: scikit-learn!=0.22,>=0.19.1 in /usr/local/lib/python3.7/dist-packages (from hypertools) (0.22.2.post1)\n",
            "Requirement already satisfied: pandas>=0.18.0 in /usr/local/lib/python3.7/dist-packages (from hypertools) (1.1.5)\n",
            "Requirement already satisfied: seaborn>=0.8.1 in /usr/local/lib/python3.7/dist-packages (from hypertools) (0.11.1)\n",
            "Requirement already satisfied: matplotlib>=1.5.1 in /usr/local/lib/python3.7/dist-packages (from hypertools) (3.2.2)\n",
            "Requirement already satisfied: scipy>=1.0.0 in /usr/local/lib/python3.7/dist-packages (from hypertools) (1.4.1)\n",
            "Requirement already satisfied: numpy>=1.10.4 in /usr/local/lib/python3.7/dist-packages (from hypertools) (1.19.5)\n",
            "Collecting umap-learn>=0.4.6\n",
            "\u001b[?25l  Downloading https://files.pythonhosted.org/packages/75/69/85e7f950bb75792ad5d666d86c5f3e62eedbb942848e7e3126513af9999c/umap-learn-0.5.1.tar.gz (80kB)\n",
            "\u001b[K     |████████████████████████████████| 81kB 3.6MB/s \n",
            "\u001b[?25hRequirement already satisfied: future in /usr/local/lib/python3.7/dist-packages (from hypertools) (0.16.0)\n",
            "Requirement already satisfied: requests in /usr/local/lib/python3.7/dist-packages (from hypertools) (2.23.0)\n",
            "Collecting deepdish\n",
            "  Downloading https://files.pythonhosted.org/packages/6e/39/2a47c852651982bc5eb39212ac110284dd20126bdc7b49bde401a0139f5d/deepdish-0.3.6-py2.py3-none-any.whl\n",
            "Requirement already satisfied: six in /usr/local/lib/python3.7/dist-packages (from hypertools) (1.15.0)\n",
            "Requirement already satisfied: joblib>=0.11 in /usr/local/lib/python3.7/dist-packages (from scikit-learn!=0.22,>=0.19.1->hypertools) (1.0.1)\n",
            "Requirement already satisfied: pytz>=2017.2 in /usr/local/lib/python3.7/dist-packages (from pandas>=0.18.0->hypertools) (2018.9)\n",
            "Requirement already satisfied: python-dateutil>=2.7.3 in /usr/local/lib/python3.7/dist-packages (from pandas>=0.18.0->hypertools) (2.8.1)\n",
            "Requirement already satisfied: pyparsing!=2.0.4,!=2.1.2,!=2.1.6,>=2.0.1 in /usr/local/lib/python3.7/dist-packages (from matplotlib>=1.5.1->hypertools) (2.4.7)\n",
            "Requirement already satisfied: kiwisolver>=1.0.1 in /usr/local/lib/python3.7/dist-packages (from matplotlib>=1.5.1->hypertools) (1.3.1)\n",
            "Requirement already satisfied: cycler>=0.10 in /usr/local/lib/python3.7/dist-packages (from matplotlib>=1.5.1->hypertools) (0.10.0)\n",
            "Requirement already satisfied: numba>=0.49 in /usr/local/lib/python3.7/dist-packages (from umap-learn>=0.4.6->hypertools) (0.51.2)\n",
            "Collecting pynndescent>=0.5\n",
            "\u001b[?25l  Downloading https://files.pythonhosted.org/packages/af/65/8189298dd3a05bbad716ee8e249764ff8800e365d8dc652ad2192ca01b4a/pynndescent-0.5.2.tar.gz (1.1MB)\n",
            "\u001b[K     |████████████████████████████████| 1.2MB 19.7MB/s \n",
            "\u001b[?25hRequirement already satisfied: chardet<4,>=3.0.2 in /usr/local/lib/python3.7/dist-packages (from requests->hypertools) (3.0.4)\n",
            "Requirement already satisfied: urllib3!=1.25.0,!=1.25.1,<1.26,>=1.21.1 in /usr/local/lib/python3.7/dist-packages (from requests->hypertools) (1.24.3)\n",
            "Requirement already satisfied: certifi>=2017.4.17 in /usr/local/lib/python3.7/dist-packages (from requests->hypertools) (2020.12.5)\n",
            "Requirement already satisfied: idna<3,>=2.5 in /usr/local/lib/python3.7/dist-packages (from requests->hypertools) (2.10)\n",
            "Requirement already satisfied: tables in /usr/local/lib/python3.7/dist-packages (from deepdish->hypertools) (3.4.4)\n",
            "Requirement already satisfied: setuptools in /usr/local/lib/python3.7/dist-packages (from numba>=0.49->umap-learn>=0.4.6->hypertools) (57.0.0)\n",
            "Requirement already satisfied: llvmlite<0.35,>=0.34.0.dev0 in /usr/local/lib/python3.7/dist-packages (from numba>=0.49->umap-learn>=0.4.6->hypertools) (0.34.0)\n",
            "Requirement already satisfied: numexpr>=2.5.2 in /usr/local/lib/python3.7/dist-packages (from tables->deepdish->hypertools) (2.7.3)\n",
            "Building wheels for collected packages: hypertools, umap-learn, pynndescent\n",
            "  Building wheel for hypertools (setup.py) ... \u001b[?25l\u001b[?25hdone\n",
            "  Created wheel for hypertools: filename=hypertools-0.6.3-cp37-none-any.whl size=46636 sha256=84429d623a7b1e9df4080ea9e8da3504257a3c2a932009dbfeed1df85d035ec0\n",
            "  Stored in directory: /root/.cache/pip/wheels/81/db/79/f73ff50f0be0535fef93120d7fe39cc0d329e63234963066a4\n",
            "  Building wheel for umap-learn (setup.py) ... \u001b[?25l\u001b[?25hdone\n",
            "  Created wheel for umap-learn: filename=umap_learn-0.5.1-cp37-none-any.whl size=76569 sha256=b3354a0f7aec311ec67f042eaead61f8e6d12151f0405d26de2f7c9805e4d562\n",
            "  Stored in directory: /root/.cache/pip/wheels/ad/df/d5/a3691296ff779f25cd1cf415a3af954b987fb53111e3392cf4\n",
            "  Building wheel for pynndescent (setup.py) ... \u001b[?25l\u001b[?25hdone\n",
            "  Created wheel for pynndescent: filename=pynndescent-0.5.2-cp37-none-any.whl size=51362 sha256=d82cfd4f332c1b17dae5eaa400823490ccdb33bbde8a55a8ea7fa3535149c7ae\n",
            "  Stored in directory: /root/.cache/pip/wheels/ba/52/4e/4c28d04d144a28f89e2575fb63628df6e6d49b56c5ddd0c74e\n",
            "Successfully built hypertools umap-learn pynndescent\n",
            "Installing collected packages: PPCA, pynndescent, umap-learn, deepdish, hypertools\n",
            "Successfully installed PPCA-0.0.4 deepdish-0.3.6 hypertools-0.6.3 pynndescent-0.5.2 umap-learn-0.5.1\n"
          ],
          "name": "stdout"
        },
        {
          "output_type": "stream",
          "text": [
            "/usr/local/lib/python3.7/dist-packages/hypertools/plot/__init__.py:10: UserWarning:\n",
            "\n",
            "Could not switch backend to TkAgg.  This may impact performance of the plotting functions.\n",
            "\n"
          ],
          "name": "stderr"
        }
      ]
    },
    {
      "cell_type": "markdown",
      "metadata": {
        "id": "utex2jHYMh1G"
      },
      "source": [
        "# Google authentication\n",
        "\n",
        "Run the next cell to enable use of your Google credentials in uploading and downloading data via Google Drive.  See tutorial [here](https://colab.research.google.com/notebooks/io.ipynb#scrollTo=P3KX0Sm0E2sF) for interacting with data via Google services."
      ]
    },
    {
      "cell_type": "code",
      "metadata": {
        "id": "vnkRNlrJGwEA"
      },
      "source": [
        "auth.authenticate_user()\n",
        "gauth = GoogleAuth()\n",
        "gauth.credentials = GoogleCredentials.get_application_default()\n",
        "drive = GoogleDrive(gauth)"
      ],
      "execution_count": 9,
      "outputs": []
    },
    {
      "cell_type": "markdown",
      "metadata": {
        "id": "cXsl_Ks2NVf8"
      },
      "source": [
        "# Project team\n",
        "\n",
        "Laya Indukuri was the sole contributor to the project.\n",
        "\n",
        "# Background and overview\n",
        "\n",
        "I sought to understand whether sports can play a role in college admissions, and if so, for which groups and whether or not it is \"fair\". My inspiration came from the recent [Operation Varsity Blues Scandal](https://www.nytimes.com/2019/03/12/us/college-admissions-cheating-scandal.html) from 2019.\n",
        "\n",
        "# Approach\n",
        "\n",
        "The approach I plan to take in order to explore this question is 1) do preliminary research to understand the college admissions process 2) do research to understand the role sports play in colleges and the college admissions process 3) understand which groups may or may not benefit from this and 4) explore whether or not this is equitable and if it should be changed.\n",
        "\n",
        "# Quick summary\n",
        "\n",
        "I found that athletics admissions do have a higher acceptance rate for the same colleges, but this primarily benefits wealthy and white individuals. \n",
        "\n"
      ]
    },
    {
      "cell_type": "markdown",
      "metadata": {
        "id": "XHvFYl-aOHpN"
      },
      "source": [
        "# Data\n",
        "\n",
        "Briefly describe your dataset(s), including links to original sources.  Provide any relevant background information specific to your data sources.\n",
        "\n",
        "1. [College NCAA Finances](https://docs.google.com/spreadsheets/d/1udOE-ny63N97_wPaa5K4t_un52dwO-D0Ob7-z8S8X4A/edit#gid=0)\n",
        "2. [# of College Athletics Scholarship Programs](https://docs.google.com/spreadsheets/d/1AqXbql-2GoYXYiOWjUju67stG11xdXbd6hy2C4uoc4k/edit#gid=0)\n",
        "3. [NCAA Demographics Database Spreadsheet](https://docs.google.com/spreadsheets/d/1TaGwo1LjyaQE_dDxqZ-h721usFo05WDNQDmYrfE5Swo/edit#gid=542084305)\n",
        "4. [Estimated Probability of High School Athletes competing in College Athletics](https://docs.google.com/spreadsheets/d/1rUs8tGOwtVgA8k5oSCY2vm1JTN47nwcH1HT2a6d3kus/edit#gid=0)"
      ]
    },
    {
      "cell_type": "markdown",
      "metadata": {
        "id": "2hpbjrd8Ofpa"
      },
      "source": [
        "# Analysis\n",
        "\n",
        "Briefly describe each step of your analysis, followed by the code implementing that part of the analysis and/or producing the relevant figures.  (Copy this text block and the following code block as many times as are needed.)"
      ]
    },
    {
      "cell_type": "code",
      "metadata": {
        "id": "pMalPJ-XMuVh",
        "colab": {
          "base_uri": "https://localhost:8080/"
        },
        "outputId": "bad31f0d-d6d7-4a45-9b58-1ace8848bfaa"
      },
      "source": [
        "# Provide code for downloading or importing your data here\n",
        "from google.colab import auth\n",
        "auth.authenticate_user()\n",
        "\n",
        "import gspread\n",
        "from oauth2client.client import GoogleCredentials\n",
        "\n",
        "gc = gspread.authorize(GoogleCredentials.get_application_default())\n",
        "\n",
        "#sh = gc.create('My cool spreadsheet')\n",
        "\n",
        "CollegeNCAAFinancesWorksheet = gc.open('College NCAA Finances').sheet1\n",
        "\n",
        "# get_all_values gives a list of rows.\n",
        "CollegeNCAAFinancesWorksheetRows = CollegeNCAAFinancesWorksheet.get_all_values()\n",
        "print(CollegeNCAAFinancesWorksheetRows)\n",
        "\n",
        "import pandas as pd\n",
        "df = pd.DataFrame.from_records(CollegeNCAAFinancesWorksheetRows)\n",
        "df.columns = df.iloc[0]\n",
        "df = df[1:]"
      ],
      "execution_count": 10,
      "outputs": [
        {
          "output_type": "stream",
          "text": [
            "[['Rank', 'School', 'Conference', 'Total Revenue', 'Total Expenses', 'Total Allocated', '% Allocated'], ['1', 'Texas', 'Big 12', '$223,879,781', '$204,234,897', '$0', '0'], ['2', 'Texas A&M', 'SEC', '$212,748,002', '$169,012,456', '$0', '0'], ['3', 'Ohio State', 'Big Ten', '$210,548,239', '$220,572,956', '$0', '0'], ['4', 'Michigan', 'Big Ten', '$197,820,410', '$190,952,175', '$261,773', '0.13'], ['5', 'Georgia', 'SEC', '$174,042,482', '$143,299,554', '$3,508,850', '2.02'], ['6', 'Penn State', 'Big Ten', '$164,529,326', '$160,369,805', '$0', '0'], ['7', 'Alabama', 'SEC', '$164,090,889', '$185,317,681', '$2,654,551', '1.62'], ['8', 'Oklahoma', 'Big 12', '$163,126,695', '$157,958,270', '$0', '0'], ['9', 'Florida', 'SEC', '$159,706,937', '$141,829,002', '$2,261,773', '1.42'], ['10', 'LSU', 'SEC', '$157,787,782', '$148,977,880', '$0', '0'], ['11', 'Wisconsin', 'Big Ten', '$157,660,107', '$154,621,828', '$3,029,000', '1.92'], ['12', 'Florida State', 'ACC', '$152,757,883', '$150,147,316', '$15,607,019', '10.22'], ['13', 'Auburn', 'SEC', '$152,455,416', '$139,260,711', '$5,261,252', '3.45'], ['14', 'Iowa', 'Big Ten', '$151,976,026', '$146,282,275', '$650,000', '0.43'], ['15', 'Kentucky', 'SEC', '$150,435,842', '$144,886,246', '$0', '0'], ['16', 'Tennessee', 'SEC', '$143,765,903', '$142,976,173', '$0', '0'], ['17', 'South Carolina', 'SEC', '$140,695,659', '$136,879,732', '$0', '0'], ['18', 'Michigan State', 'Big Ten', '$140,010,865', '$135,655,740', '$885,690', '0.63'], ['19', 'Louisville', 'ACC', '$139,955,824', '$151,167,940', '$5,923,817', '4.23'], ['20', 'Arkansas', 'SEC', '$137,497,788', '$129,620,361', '$0', '0'], ['21', 'Nebraska', 'Big Ten', '$136,233,460', '$124,148,206', '$0', '0'], ['22', 'Clemson', 'ACC', '$133,861,515', '$131,978,513', '$5,602,440', '4.19'], ['23', 'Washington', 'Pac-12', '$133,792,677', '$131,317,636', '$4,151,964', '3.1'], ['24', 'Minnesota', 'Big Ten', '$130,456,454', '$129,450,256', '$7,972,732', '6.11'], ['25', 'Indiana', 'Big Ten', '$127,832,628', '$114,822,135', '$2,954,505', '2.31'], ['26', 'Oregon', 'Pac-12', '$127,508,498', '$128,943,543', '$452,924', '0.36'], ['27', 'Arizona State', 'Pac-12', '$121,698,840', '$118,404,377', '$19,356,134', '15.9'], ['28', 'Kansas', 'Big 12', '$121,553,307', '$108,881,800', '$1,746,274', '1.44'], ['29', 'Illinois', 'Big Ten', '$118,565,501', '$120,168,951', '$8,652,815', '7.3'], ['30', 'Mississippi State', 'SEC', '$112,273,809', '$98,832,615', '$0', '0'], ['31', 'Purdue', 'Big Ten', '$110,844,907', '$102,026,477', '$0', '0'], ['32', 'Virginia', 'ACC', '$110,219,117', '$112,621,238', '$18,429,801', '16.72'], ['33', 'Maryland', 'Big Ten', '$108,796,303', '$108,785,924', '$25,363,715', '23.31'], ['34', 'Mississippi', 'SEC', '$108,442,428', '$113,013,400', '$3,095,396', '2.85'], ['35', 'UCLA', 'Pac-12', '$108,412,967', '$127,339,042', '$2,577,213', '2.38'], ['36', 'North Carolina', 'ACC', '$107,812,619', '$110,809,706', '$9,163,374', '8.5'], ['37', 'Missouri', 'SEC', '$106,610,244', '$108,398,447', '$1,015,000', '0.95'], ['38', 'Arizona', 'Pac-12', '$105,091,389', '$100,565,835', '$21,886,167', '20.83'], ['39', 'Rutgers', 'Big Ten', '$103,251,280', '$103,167,344', '$29,859,395', '28.92'], ['40', 'West Virginia', 'Big 12', '$102,680,928', '$98,249,890', '$3,902,899', '3.8'], ['41', 'Utah', 'Pac-12', '$99,526,695', '$96,000,514', '$12,594,513', '12.65'], ['42', 'Virginia Tech', 'ACC', '$96,772,489', '$93,961,068', '$10,278,338', '10.62'], ['43', 'Texas Tech', 'Big 12', '$96,625,347', '$95,132,604', '$3,517,672', '3.64'], ['44', 'Iowa State', 'Big 12', '$95,411,884', '$95,315,376', '$2,054,314', '2.15'], ['45', 'Oklahoma State', 'Big 12', '$95,335,482', '$95,008,483', '$87,640', '0.09'], ['46', 'Colorado', 'Pac-12', '$94,935,198', '$98,413,284', '$12,283,025', '12.94'], ['47', 'North Carolina State', 'ACC', '$92,724,548', '$90,100,025', '$6,851,989', '7.39'], ['48', 'Kansas State', 'Big 12', '$89,919,822', '$83,079,244', '$0', '0'], ['49', 'California', 'Pac-12', '$87,500,758', '$106,676,734', '$0', '0'], ['50', 'Georgia Tech', 'ACC', '$85,802,112', '$96,334,831', '$8,257,182', '9.62'], ['51', 'Oregon State', 'Pac-12', '$82,058,386', '$82,364,021', '$11,811,725', '14.39'], ['52', 'Connecticut', 'AAC', '$80,900,404', '$80,814,173', '$43,856,484', '54.21'], ['53', 'Houston', 'AAC', '$75,049,955', '$73,678,308', '$48,372,196', '64.45'], ['54', 'Washington State', 'Pac-12', '$71,691,339', '$76,258,966', '$5,462,015', '7.62'], ['55', 'Central Florida', 'AAC', '$69,121,887', '$67,916,343', '$31,739,067', '45.92'], ['56', 'Cincinnati', 'AAC', '$68,845,672', '$66,832,326', '$29,702,420', '43.14'], ['57', 'Air Force', 'Mt. West', '$60,009,782', '$54,192,115', '$40,851,962', '68.08'], ['58', 'East Carolina', 'AAC', '$59,970,346', '$56,281,920', '$37,692,722', '62.85'], ['59', 'Colorado State', 'Mt. West', '$56,081,379', '$54,289,162', '$23,735,343', '42.32'], ['60', 'Memphis', 'AAC', '$55,815,109', '$55,494,325', '$20,575,512', '36.86'], ['61', 'South Florida', 'AAC', '$55,045,769', '$53,569,756', '$32,033,551', '58.19'], ['62', 'San Diego State', 'Mt. West', '$54,731,404', '$55,379,174', '$29,222,098', '53.39'], ['63', 'James Madison', 'CAA', '$52,704,654', '$52,704,654', '$42,086,075', '79.85'], ['64', 'Nevada-Las Vegas', 'Mt. West', '$50,784,275', '$50,445,250', '$23,562,155', '46.4'], ['65', 'Boise State', 'Mt. West', '$50,599,483', '$49,758,472', '$15,023,907', '29.69'], ['66', 'Fresno State', 'Mt. West', '$49,772,999', '$50,079,039', '$21,297,379', '42.79'], ['67', 'Massachusetts', 'A-10', '$49,461,013', '$48,445,234', '$38,931,699', '78.71'], ['68', 'Hawaii', 'Big West', '$48,399,854', '$51,340,094', '$21,248,285', '43.9'], ['69', 'Delaware', 'CAA', '$47,945,793', '$47,947,933', '$41,863,972', '87.32'], ['70', 'Wyoming', 'Mt. West', '$47,046,852', '$48,154,020', '$20,328,318', '43.21'], ['71', 'Old Dominion', 'C-USA', '$46,956,655', '$49,376,061', '$28,784,075', '61.3'], ['72', 'Buffalo', 'MAC', '$45,977,952', '$45,933,053', '$32,128,806', '69.88'], ['73', 'Nevada', 'Mt. West', '$43,653,404', '$43,436,728', '$14,383,554', '32.95'], ['74', 'Utah State', 'Mt. West', '$41,558,060', '$40,798,434', '$23,496,368', '56.54'], ['75', 'California-Davis', 'Big West', '$40,988,440', '$39,562,673', '$32,261,928', '78.71'], ['76', 'Charlotte', 'C-USA', '$40,866,430', '$38,454,232', '$27,787,506', '68'], ['77', 'New Mexico', 'Mt. West', '$40,832,286', '$40,832,286', '$15,260,126', '37.37'], ['78', 'North Texas', 'C-USA', '$40,758,582', '$39,908,256', '$28,103,022', '68.95'], ['79', 'Miami (Ohio)', 'MAC', '$39,644,248', '$38,650,630', '$27,154,286', '68.49'], ['80', 'Western Michigan', 'MAC', '$38,492,604', '$38,997,076', '$24,652,287', '64.04'], ['81', 'Appalachian State', 'Sun Belt', '$37,996,512', '$37,773,447', '$22,026,921', '57.97'], ['82', 'Coastal Carolina', 'Sun Belt', '$37,885,828', '$37,823,535', '$27,530,486', '72.67'], ['83', 'Texas State', 'Sun Belt', '$37,834,341', '$37,102,038', '$26,910,177', '71.13'], ['84', 'Akron', 'MAC', '$37,194,485', '$37,275,978', '$26,011,378', '69.93'], ['85', 'Florida International', 'C-USA', '$37,018,133', '$35,374,928', '$28,557,998', '77.15'], ['86', 'Alabama at Birmingham', 'C-USA', '$36,494,381', '$35,697,117', '$23,108,800', '63.32'], ['87', 'Florida Atlantic', 'C-USA', '$36,297,004', '$35,846,033', '$20,701,477', '57.03'], ['88', 'Middle Tennessee', 'C-USA', '$35,834,204', '$35,834,204', '$23,945,453', '66.82'], ['89', 'Virginia Commonwealth', 'A-10', '$35,752,646', '$35,826,994', '$21,899,733', '61.25'], ['90', 'Stony Brook', 'Am East', '$35,579,464', '$36,515,041', '$29,216,351', '82.12'], ['91', 'Toledo', 'MAC', '$35,560,555', '$35,560,555', '$21,886,157', '61.55'], ['92', 'Arkansas State', 'Sun Belt', '$35,550,592', '$35,550,592', '$13,897,082', '39.09'], ['93', 'Georgia State', 'Sun Belt', '$35,546,650', '$38,399,491', '$25,616,310', '72.06'], ['94', 'Central Michigan', 'MAC', '$34,942,574', '$33,642,870', '$25,228,204', '72.2'], ['95', 'Ohio', 'MAC', '$34,763,420', '$34,677,243', '$19,992,428', '57.51'], ['96', 'California Polytechnic', 'Big West', '$34,504,020', '$31,465,374', '$23,976,017', '69.49'], ['97', 'Texas-San Antonio', 'C-USA', '$33,657,739', '$32,278,508', '$20,488,500', '60.87'], ['98', 'South Alabama', 'Sun Belt', '$33,525,272', '$33,964,076', '$24,197,646', '72.18'], ['99', 'Texas-El Paso', 'C-USA', '$33,481,654', '$32,980,563', '$20,797,127', '62.11'], ['100', 'Towson', 'CAA', '$33,325,498', '$32,371,073', '$28,937,072', '86.83'], ['101', 'Marshall', 'C-USA', '$32,905,904', '$32,936,226', '$15,723,601', '47.78'], ['102', 'San Jose State', 'Mt. West', '$32,787,377', '$33,184,068', '$21,511,904', '65.61'], ['103', 'Louisiana-Lafayette', 'Sun Belt', '$32,544,966', '$37,104,736', '$18,623,165', '57.22'], ['104', 'Troy', 'Sun Belt', '$32,334,739', '$32,334,739', '$26,595,810', '82.25'], ['105', 'New Hampshire', 'Am East', '$32,127,418', '$32,206,158', '$23,078,144', '71.83'], ['106', 'Sacramento State', 'Big Sky', '$31,025,741', '$30,566,334', '$27,135,506', '87.46'], ['107', 'Eastern Michigan', 'MAC', '$30,878,069', '$30,878,069', '$20,858,180', '67.55'], ['108', 'Western Kentucky', 'C-USA', '$30,770,123', '$30,770,123', '$17,903,051', '58.18'], ['109', 'George Mason', 'A-10', '$30,579,233', '$30,579,233', '$24,812,893', '81.14'], ['110', 'North Dakota', 'Summit', '$30,499,909', '$30,414,914', '$14,281,319', '46.82'], ['111', 'Wichita State', 'Mo. Valley', '$29,890,086', '$30,163,207', '$8,561,480', '28.64'], ['112', 'William & Mary', 'CAA', '$29,505,573', '$29,362,957', '$16,754,438', '56.78'], ['113', 'Georgia Southern', 'Sun Belt', '$29,483,912', '$29,504,873', '$17,806,518', '60.39'], ['114', 'Kent State', 'MAC', '$29,460,111', '$29,573,232', '$18,874,287', '64.07'], ['115', 'Illinois State', 'Mo. Valley', '$29,004,681', '$26,742,643', '$20,354,847', '70.18'], ['116', 'Missouri State', 'Mo. Valley', '$28,767,433', '$28,767,433', '$16,428,734', '57.11'], ['117', 'Rhode Island', 'A-10', '$28,579,307', '$28,114,099', '$21,280,021', '74.46'], ['118', 'Kennesaw State', 'Atl Sun', '$28,516,561', '$27,575,076', '$21,092,574', '73.97'], ['119', 'Northern Illinois', 'MAC', '$28,057,388', '$26,483,239', '$14,846,542', '52.91'], ['120', 'New Mexico State', 'WAC', '$28,010,801', '$28,011,103', '$17,375,408', '62.03'], ['121', 'Ball State', 'MAC', '$27,678,480', '$27,911,602', '$20,551,096', '74.25'], ['122', 'North Dakota State', 'Summit', '$27,252,716', '$27,489,584', '$8,123,914', '29.81'], ['123', 'Missouri-Kansas City', 'WAC', '$26,825,857', '$12,978,814', '$24,094,290', '89.82'], ['124', 'Bowling Green', 'MAC', '$26,001,184', '$25,780,900', '$15,625,182', '60.09'], ['125', 'Southern Mississippi', 'C-USA', '$25,687,189', '$25,687,189', '$11,521,618', '44.85'], ['126', 'Louisiana Tech', 'C-USA', '$24,948,474', '$24,910,914', '$10,957,979', '43.92'], ['127', 'Northern Arizona', 'Big Sky', '$23,829,909', '$21,456,837', '$19,223,180', '80.67'], ['128', 'South Dakota State', 'Summit', '$23,406,082', '$23,075,994', '$9,982,251', '42.65'], ['129', 'Montana', 'Big Sky', '$23,350,166', '$22,066,048', '$7,987,119', '34.21'], ['130', 'California-Riverside', 'Big West', '$23,210,693', '$24,204,996', '$21,054,175', '90.71'], ['131', 'Montana State', 'Big Sky', '$23,181,126', '$23,222,276', '$11,682,550', '50.4'], ['132', 'California-Santa Barbara', 'Big West', '$23,118,249', '$24,879,412', '$15,981,620', '69.13'], ['133', 'Binghamton', 'Am East', '$23,086,827', '$21,806,087', '$18,847,220', '81.64'], ['134', 'Albany', 'Am East', '$23,074,542', '$22,060,609', '$18,546,741', '80.38'], ['135', 'Maine', 'Am East', '$22,820,882', '$22,763,763', '$15,485,826', '67.86'], ['136', 'East Tennessee State', 'Southern', '$22,766,270', '$23,450,603', '$15,636,776', '68.68'], ['137', 'Vermont', 'Am East', '$22,722,443', '$22,729,644', '$17,006,012', '74.84'], ['138', 'Southern Illinois', 'Mo. Valley', '$22,507,927', '$31,852,498', '$12,782,176', '56.79'], ['139', 'California-Irvine', 'Big West', '$22,330,644', '$22,310,597', '$17,669,315', '79.13'], ['140', 'Long Beach State', 'Big West', '$22,327,842', '$22,338,314', '$15,062,825', '67.46'], ['141', 'Massachusetts-Lowell', 'Am East', '$21,895,994', '$21,760,969', '$18,485,046', '84.42'], ['142', 'College of Charleston', 'CAA', '$21,251,949', '$21,858,855', '$16,128,133', '75.89'], ['143', 'Nebraska-Omaha', 'Summit', '$20,533,164', '$20,195,866', '$10,609,997', '51.67'], ['144', 'Northern Iowa', 'Mo. Valley', '$20,393,653', '$21,739,142', '$9,699,119', '47.56'], ['145', 'California State-Fullerton', 'Big West', '$19,925,160', '$19,925,160', '$15,985,984', '80.23'], ['146', 'South Dakota', 'Summit', '$19,924,008', '$20,095,967', '$12,628,820', '63.38'], ['147', 'Prairie View A&M', 'SWAC', '$19,727,562', '$19,493,859', '$13,364,772', '67.75'], ['148', 'Sam Houston State', 'Southland', '$19,210,115', '$18,538,773', '$14,399,434', '74.96'], ['149', 'Idaho', 'Big Sky', '$19,200,033', '$20,728,355', '$12,447,352', '64.83'], ['150', 'Stephen F. Austin', 'Southland', '$19,046,746', '$19,120,353', '$15,733,998', '82.61'], ['151', 'Illinois-Chicago', 'Horizon', '$18,895,228', '$18,456,047', '$15,143,690', '80.15'], ['152', 'California State-Northridge', 'Big West', '$18,831,519', '$17,884,384', '$16,010,967', '85.02'], ['153', 'Lamar', 'Southland', '$18,643,064', '$18,525,162', '$15,024,594', '80.59'], ['154', 'Jacksonville State', 'Ohio Valley', '$18,416,177', '$18,416,177', '$14,930,988', '81.08'], ['155', 'Eastern Washington', 'Big Sky', '$18,409,766', '$18,343,811', '$13,508,329', '73.38'], ['156', 'Murray State', 'Ohio Valley', '$18,313,528', '$18,112,669', '$12,702,324', '69.36'], ['157', 'Maryland-Baltimore Cty', 'Am East', '$18,271,542', '$18,715,669', '$16,112,683', '88.18'], ['158', 'North Carolina Greensboro', 'Southern', '$18,193,727', '$18,211,044', '$14,663,548', '80.6'], ['159', 'Tennessee-Chattanooga', 'Southern', '$18,193,292', '$18,193,292', '$12,548,654', '68.97'], ['160', 'Austin Peay', 'Ohio Valley', '$17,651,686', '$17,333,844', '$12,631,204', '71.56'], ['161', 'Northern Colorado', 'Big Sky', '$17,597,863', '$17,442,112', '$12,647,225', '71.87'], ['162', 'New Jersey Tech', 'Atl Sun', '$17,574,760', '$17,256,398', '$15,917,188', '90.57'], ['163', 'Indiana State', 'Mo. Valley', '$17,405,534', '$17,189,492', '$13,563,973', '77.93'], ['164', 'California State-Bakersfield', 'WAC', '$17,318,218', '$18,351,841', '$12,612,299', '72.83'], ['165', 'Central Connecticut', 'Northeast', '$16,982,571', '$16,982,568', '$14,600,615', '85.97'], ['166', 'Florida Gulf Coast', 'Atl Sun', '$16,517,695', '$16,585,865', '$11,041,799', '66.85'], ['167', 'Eastern Kentucky', 'Ohio Valley', '$16,426,697', '$16,426,697', '$13,329,410', '81.14'], ['168', 'Utah Valley', 'WAC', '$16,380,032', '$17,084,018', '$14,201,153', '86.7'], ['169', 'Youngstown State', 'Horizon', '$16,206,124', '$16,206,122', '$11,595,395', '71.55'], ['170', 'Citadel', 'Southern', '$16,201,634', '$15,978,432', '$11,238,931', '69.37'], ['171', 'Texas-Arlington', 'Sun Belt', '$16,035,977', '$17,371,036', '$12,315,090', '76.8'], ['172', 'Texas-Rio Grande Valley', 'WAC', '$16,004,761', '$15,788,685', '$14,049,680', '87.78'], ['173', 'North Carolina Wilmington', 'CAA', '$15,902,957', '$16,248,450', '$11,339,005', '71.3'], ['174', 'Wisconsin-Milwaukee', 'Horizon', '$15,826,484', '$14,409,939', '$13,221,141', '83.54'], ['175', 'North Carolina A&T', 'MEAC', '$15,804,026', '$15,392,865', '$11,592,638', '73.35'], ['176', 'Oakland', 'Horizon', '$15,797,739', '$15,910,572', '$12,663,290', '80.16'], ['177', 'Northern Kentucky', 'Horizon', '$15,761,296', '$15,841,015', '$13,284,740', '84.29'], ['178', 'Louisiana-Monroe', 'Sun Belt', '$15,568,952', '$16,927,856', '$8,032,964', '51.6'], ['179', 'Southern Utah', 'Big Sky', '$15,412,859', '$15,883,487', '$12,082,018', '78.39'], ['180', 'Weber State', 'Big Sky', '$15,038,280', '$15,011,072', '$9,742,055', '64.78'], ['181', 'Southern', 'SWAC', '$15,021,312', '$15,086,644', '$10,368,496', '69.03'], ['182', 'Portland State', 'Big Sky', '$14,987,694', '$12,015,314', '$11,272,544', '75.21'], ['183', 'Western Carolina', 'Southern', '$14,882,283', '$13,920,437', '$9,607,904', '64.56'], ['184', 'VMI', 'Southern', '$14,812,966', '$13,924,452', '$6,554,671', '44.25'], ['185', 'North Carolina Central', 'MEAC', '$14,674,930', '$14,674,930', '$9,934,322', '67.7'], ['186', 'Tennessee Tech', 'Ohio Valley', '$14,553,628', '$14,399,170', '$11,222,903', '77.11'], ['187', 'Central Arkansas', 'Southland', '$14,224,103', '$14,033,712', '$10,306,949', '72.46'], ['188', 'Texas A&M-Corpus Christi', 'Southland', '$14,179,273', '$14,168,811', '$11,712,022', '82.6'], ['189', 'Delaware State', 'MEAC', '$14,098,765', '$14,098,765', '$11,912,608', '84.49'], ['190', 'Tennessee-Martin', 'Ohio Valley', '$14,021,155', '$14,021,155', '$9,907,172', '70.66'], ['191', 'Southeastern Louisiana', 'Southland', '$13,929,421', '$13,877,580', '$8,386,459', '60.21'], ['192', 'Norfolk State', 'MEAC', '$13,728,299', '$13,728,299', '$11,047,134', '80.47'], ['193', 'Alabama State', 'SWAC', '$13,429,886', '$13,443,801', '$10,278,985', '76.54'], ['194', 'Cleveland State', 'Horizon', '$13,400,944', '$13,400,944', '$11,091,831', '82.77'], ['195', 'Southeast Missouri State', 'Ohio Valley', '$13,336,997', '$12,907,418', '$9,819,070', '73.62'], ['196', 'North Florida', 'Atl Sun', '$13,259,614', '$13,042,501', '$9,453,834', '71.3'], ['197', 'Northwestern State La', 'Southland', '$13,256,529', '$13,006,719', '$8,651,033', '65.26'], ['198', 'Idaho State', 'Big Sky', '$13,164,723', '$14,144,273', '$8,619,904', '65.48'], ['199', 'Arkansas-Little Rock', 'Sun Belt', '$13,070,393', '$13,132,498', '$8,829,852', '67.56'], ['200', 'Winthrop', 'Big South', '$12,833,867', '$13,799,838', '$9,617,375', '74.94'], ['201', 'McNeese State', 'Southland', '$12,677,635', '$12,682,134', '$6,690,472', '52.77'], ['202', 'Radford', 'Big South', '$12,635,147', '$13,046,363', '$10,145,351', '80.29'], ['203', 'Wright State', 'Horizon', '$12,400,904', '$12,370,379', '$10,047,356', '81.02'], ['204', 'Texas Southern', 'SWAC', '$12,004,497', '$12,004,497', '$9,146,014', '76.19'], ['205', 'Purdue Fort Wayne', 'Summit', '$11,660,624', '$12,491,545', '$9,697,728', '83.17'], ['206', 'Wisconsin-Green Bay', 'Horizon', '$11,630,591', '$9,847,376', '$5,943,623', '51.1'], ['207', 'Morehead State', 'Ohio Valley', '$11,603,133', '$11,603,133', '$9,780,660', '84.29'], ['208', 'Tennessee State', 'Ohio Valley', '$11,583,919', '$11,981,330', '$9,125,050', '78.77'], ['209', 'Longwood', 'Big South', '$11,372,937', '$11,876,279', '$9,469,695', '83.27'], ['210', 'Eastern Illinois', 'Ohio Valley', '$11,347,747', '$12,861,144', '$7,692,499', '67.79'], ['211', 'Florida A&M', 'MEAC', '$11,205,406', '$11,205,406', '$3,935,618', '35.12'], ['212', 'Indiana-Purdue Indianapolis', 'Horizon', '$10,910,373', '$10,889,513', '$9,481,048', '86.9'], ['213', 'Morgan State', 'MEAC', '$10,892,595', '$14,146,441', '$8,842,176', '81.18'], ['214', 'Western Illinois', 'Summit', '$10,591,600', '$11,954,285', '$7,568,885', '71.46'], ['215', 'Nicholls State', 'Southland', '$9,562,988', '$9,674,950', '$5,713,688', '59.75'], ['216', 'North Carolina Asheville', 'Big South', '$9,310,037', '$9,169,576', '$6,357,321', '68.28'], ['217', 'Southern Illinois Edwardsville', 'Ohio Valley', '$9,228,445', '$9,422,145', '$7,125,971', '77.22'], ['218', 'South Carolina Upstate', 'Big South', '$8,776,354', '$8,861,127', '$7,646,759', '87.13'], ['219', 'Grambling State', 'SWAC', '$8,748,551', '$9,869,917', '$5,242,304', '59.92'], ['220', 'Arkansas-Pine Bluff', 'SWAC', '$8,366,411', '$8,465,811', '$5,698,148', '68.11'], ['221', 'Alcorn State', 'SWAC', '$6,968,254', '$6,165,344', '$3,452,324', '49.54'], ['222', 'Chicago State', 'WAC', '$5,925,138', '$6,553,934', '$4,430,486', '74.77'], ['223', 'New Orleans', 'Southland', '$5,775,389', '$5,775,389', '$4,560,428', '78.96'], ['224', 'Maryland-Eastern Shore', 'MEAC', '$5,305,668', '$5,305,668', '$3,969,364', '74.81'], ['225', 'Mississippi Valley State', 'SWAC', '$4,107,811', '$4,107,811', '$2,224,870', '54.16'], ['226', 'Savannah State', 'MEAC', '$4,030,759', '$5,068,318', '$2,306,764', '57.23'], ['227', 'Coppin State', 'MEAC', '$3,225,541', '$4,603,198', '$2,275,427', '70.54']]\n"
          ],
          "name": "stdout"
        }
      ]
    },
    {
      "cell_type": "code",
      "metadata": {
        "id": "JkHnFnQF42Is"
      },
      "source": [
        "df[df.columns[3]] = df[df.columns[3]].replace('[\\$,]', '', regex=True).astype(float)"
      ],
      "execution_count": null,
      "outputs": []
    },
    {
      "cell_type": "code",
      "metadata": {
        "colab": {
          "base_uri": "https://localhost:8080/",
          "height": 542
        },
        "id": "72xAkfyh8GXz",
        "outputId": "6658682a-0ff9-4aa1-b592-3164626cc719"
      },
      "source": [
        "fig = px.bar(df[:10], x=\"Total Revenue\", y=\"School\", orientation='h', title='School Revenue in Dollars')\n",
        "fig.show()"
      ],
      "execution_count": null,
      "outputs": [
        {
          "output_type": "display_data",
          "data": {
            "text/html": [
              "<html>\n",
              "<head><meta charset=\"utf-8\" /></head>\n",
              "<body>\n",
              "    <div>            <script src=\"https://cdnjs.cloudflare.com/ajax/libs/mathjax/2.7.5/MathJax.js?config=TeX-AMS-MML_SVG\"></script><script type=\"text/javascript\">if (window.MathJax) {MathJax.Hub.Config({SVG: {font: \"STIX-Web\"}});}</script>                <script type=\"text/javascript\">window.PlotlyConfig = {MathJaxConfig: 'local'};</script>\n",
              "        <script src=\"https://cdn.plot.ly/plotly-latest.min.js\"></script>                <div id=\"14fecd2f-144b-4542-9f0e-5ab18852016a\" class=\"plotly-graph-div\" style=\"height:525px; width:100%;\"></div>            <script type=\"text/javascript\">                                    window.PLOTLYENV=window.PLOTLYENV || {};                                    if (document.getElementById(\"14fecd2f-144b-4542-9f0e-5ab18852016a\")) {                    Plotly.newPlot(                        \"14fecd2f-144b-4542-9f0e-5ab18852016a\",                        [{\"alignmentgroup\": \"True\", \"hovertemplate\": \"Total Revenue=%{x}<br>School=%{y}<extra></extra>\", \"legendgroup\": \"\", \"marker\": {\"color\": \"#636efa\"}, \"name\": \"\", \"offsetgroup\": \"\", \"orientation\": \"h\", \"showlegend\": false, \"textposition\": \"auto\", \"type\": \"bar\", \"x\": [223879781.0, 212748002.0, 210548239.0, 197820410.0, 174042482.0, 164529326.0, 164090889.0, 163126695.0, 159706937.0, 157787782.0], \"xaxis\": \"x\", \"y\": [\"Texas\", \"Texas A&M\", \"Ohio State\", \"Michigan\", \"Georgia\", \"Penn State\", \"Alabama\", \"Oklahoma\", \"Florida\", \"LSU\"], \"yaxis\": \"y\"}],                        {\"barmode\": \"relative\", \"legend\": {\"tracegroupgap\": 0}, \"template\": {\"data\": {\"bar\": [{\"error_x\": {\"color\": \"#2a3f5f\"}, \"error_y\": {\"color\": \"#2a3f5f\"}, \"marker\": {\"line\": {\"color\": \"#E5ECF6\", \"width\": 0.5}}, \"type\": \"bar\"}], \"barpolar\": [{\"marker\": {\"line\": {\"color\": \"#E5ECF6\", \"width\": 0.5}}, \"type\": \"barpolar\"}], \"carpet\": [{\"aaxis\": {\"endlinecolor\": \"#2a3f5f\", \"gridcolor\": \"white\", \"linecolor\": \"white\", \"minorgridcolor\": \"white\", \"startlinecolor\": \"#2a3f5f\"}, \"baxis\": {\"endlinecolor\": \"#2a3f5f\", \"gridcolor\": \"white\", \"linecolor\": \"white\", \"minorgridcolor\": \"white\", \"startlinecolor\": \"#2a3f5f\"}, \"type\": \"carpet\"}], \"choropleth\": [{\"colorbar\": {\"outlinewidth\": 0, \"ticks\": \"\"}, \"type\": \"choropleth\"}], \"contour\": [{\"colorbar\": {\"outlinewidth\": 0, \"ticks\": \"\"}, \"colorscale\": [[0.0, \"#0d0887\"], [0.1111111111111111, \"#46039f\"], [0.2222222222222222, \"#7201a8\"], [0.3333333333333333, \"#9c179e\"], [0.4444444444444444, \"#bd3786\"], [0.5555555555555556, \"#d8576b\"], [0.6666666666666666, \"#ed7953\"], [0.7777777777777778, \"#fb9f3a\"], [0.8888888888888888, \"#fdca26\"], [1.0, \"#f0f921\"]], \"type\": \"contour\"}], \"contourcarpet\": [{\"colorbar\": {\"outlinewidth\": 0, \"ticks\": \"\"}, \"type\": \"contourcarpet\"}], \"heatmap\": [{\"colorbar\": {\"outlinewidth\": 0, \"ticks\": \"\"}, \"colorscale\": [[0.0, \"#0d0887\"], [0.1111111111111111, \"#46039f\"], [0.2222222222222222, \"#7201a8\"], [0.3333333333333333, \"#9c179e\"], [0.4444444444444444, \"#bd3786\"], [0.5555555555555556, \"#d8576b\"], [0.6666666666666666, \"#ed7953\"], [0.7777777777777778, \"#fb9f3a\"], [0.8888888888888888, \"#fdca26\"], [1.0, \"#f0f921\"]], \"type\": \"heatmap\"}], \"heatmapgl\": [{\"colorbar\": {\"outlinewidth\": 0, \"ticks\": \"\"}, \"colorscale\": [[0.0, \"#0d0887\"], [0.1111111111111111, \"#46039f\"], [0.2222222222222222, \"#7201a8\"], [0.3333333333333333, \"#9c179e\"], [0.4444444444444444, \"#bd3786\"], [0.5555555555555556, \"#d8576b\"], [0.6666666666666666, \"#ed7953\"], [0.7777777777777778, \"#fb9f3a\"], [0.8888888888888888, \"#fdca26\"], [1.0, \"#f0f921\"]], \"type\": \"heatmapgl\"}], \"histogram\": [{\"marker\": {\"colorbar\": {\"outlinewidth\": 0, \"ticks\": \"\"}}, \"type\": \"histogram\"}], \"histogram2d\": [{\"colorbar\": {\"outlinewidth\": 0, \"ticks\": \"\"}, \"colorscale\": [[0.0, \"#0d0887\"], [0.1111111111111111, \"#46039f\"], [0.2222222222222222, \"#7201a8\"], [0.3333333333333333, \"#9c179e\"], [0.4444444444444444, \"#bd3786\"], [0.5555555555555556, \"#d8576b\"], [0.6666666666666666, \"#ed7953\"], [0.7777777777777778, \"#fb9f3a\"], [0.8888888888888888, \"#fdca26\"], [1.0, \"#f0f921\"]], \"type\": \"histogram2d\"}], \"histogram2dcontour\": [{\"colorbar\": {\"outlinewidth\": 0, \"ticks\": \"\"}, \"colorscale\": [[0.0, \"#0d0887\"], [0.1111111111111111, \"#46039f\"], [0.2222222222222222, \"#7201a8\"], [0.3333333333333333, \"#9c179e\"], [0.4444444444444444, \"#bd3786\"], [0.5555555555555556, \"#d8576b\"], [0.6666666666666666, \"#ed7953\"], [0.7777777777777778, \"#fb9f3a\"], [0.8888888888888888, \"#fdca26\"], [1.0, \"#f0f921\"]], \"type\": \"histogram2dcontour\"}], \"mesh3d\": [{\"colorbar\": {\"outlinewidth\": 0, \"ticks\": \"\"}, \"type\": \"mesh3d\"}], \"parcoords\": [{\"line\": {\"colorbar\": {\"outlinewidth\": 0, \"ticks\": \"\"}}, \"type\": \"parcoords\"}], \"pie\": [{\"automargin\": true, \"type\": \"pie\"}], \"scatter\": [{\"marker\": {\"colorbar\": {\"outlinewidth\": 0, \"ticks\": \"\"}}, \"type\": \"scatter\"}], \"scatter3d\": [{\"line\": {\"colorbar\": {\"outlinewidth\": 0, \"ticks\": \"\"}}, \"marker\": {\"colorbar\": {\"outlinewidth\": 0, \"ticks\": \"\"}}, \"type\": \"scatter3d\"}], \"scattercarpet\": [{\"marker\": {\"colorbar\": {\"outlinewidth\": 0, \"ticks\": \"\"}}, \"type\": \"scattercarpet\"}], \"scattergeo\": [{\"marker\": {\"colorbar\": {\"outlinewidth\": 0, \"ticks\": \"\"}}, \"type\": \"scattergeo\"}], \"scattergl\": [{\"marker\": {\"colorbar\": {\"outlinewidth\": 0, \"ticks\": \"\"}}, \"type\": \"scattergl\"}], \"scattermapbox\": [{\"marker\": {\"colorbar\": {\"outlinewidth\": 0, \"ticks\": \"\"}}, \"type\": \"scattermapbox\"}], \"scatterpolar\": [{\"marker\": {\"colorbar\": {\"outlinewidth\": 0, \"ticks\": \"\"}}, \"type\": \"scatterpolar\"}], \"scatterpolargl\": [{\"marker\": {\"colorbar\": {\"outlinewidth\": 0, \"ticks\": \"\"}}, \"type\": \"scatterpolargl\"}], \"scatterternary\": [{\"marker\": {\"colorbar\": {\"outlinewidth\": 0, \"ticks\": \"\"}}, \"type\": \"scatterternary\"}], \"surface\": [{\"colorbar\": {\"outlinewidth\": 0, \"ticks\": \"\"}, \"colorscale\": [[0.0, \"#0d0887\"], [0.1111111111111111, \"#46039f\"], [0.2222222222222222, \"#7201a8\"], [0.3333333333333333, \"#9c179e\"], [0.4444444444444444, \"#bd3786\"], [0.5555555555555556, \"#d8576b\"], [0.6666666666666666, \"#ed7953\"], [0.7777777777777778, \"#fb9f3a\"], [0.8888888888888888, \"#fdca26\"], [1.0, \"#f0f921\"]], \"type\": \"surface\"}], \"table\": [{\"cells\": {\"fill\": {\"color\": \"#EBF0F8\"}, \"line\": {\"color\": \"white\"}}, \"header\": {\"fill\": {\"color\": \"#C8D4E3\"}, \"line\": {\"color\": \"white\"}}, \"type\": \"table\"}]}, \"layout\": {\"annotationdefaults\": {\"arrowcolor\": \"#2a3f5f\", \"arrowhead\": 0, \"arrowwidth\": 1}, \"autotypenumbers\": \"strict\", \"coloraxis\": {\"colorbar\": {\"outlinewidth\": 0, \"ticks\": \"\"}}, \"colorscale\": {\"diverging\": [[0, \"#8e0152\"], [0.1, \"#c51b7d\"], [0.2, \"#de77ae\"], [0.3, \"#f1b6da\"], [0.4, \"#fde0ef\"], [0.5, \"#f7f7f7\"], [0.6, \"#e6f5d0\"], [0.7, \"#b8e186\"], [0.8, \"#7fbc41\"], [0.9, \"#4d9221\"], [1, \"#276419\"]], \"sequential\": [[0.0, \"#0d0887\"], [0.1111111111111111, \"#46039f\"], [0.2222222222222222, \"#7201a8\"], [0.3333333333333333, \"#9c179e\"], [0.4444444444444444, \"#bd3786\"], [0.5555555555555556, \"#d8576b\"], [0.6666666666666666, \"#ed7953\"], [0.7777777777777778, \"#fb9f3a\"], [0.8888888888888888, \"#fdca26\"], [1.0, \"#f0f921\"]], \"sequentialminus\": [[0.0, \"#0d0887\"], [0.1111111111111111, \"#46039f\"], [0.2222222222222222, \"#7201a8\"], [0.3333333333333333, \"#9c179e\"], [0.4444444444444444, \"#bd3786\"], [0.5555555555555556, \"#d8576b\"], [0.6666666666666666, \"#ed7953\"], [0.7777777777777778, \"#fb9f3a\"], [0.8888888888888888, \"#fdca26\"], [1.0, \"#f0f921\"]]}, \"colorway\": [\"#636efa\", \"#EF553B\", \"#00cc96\", \"#ab63fa\", \"#FFA15A\", \"#19d3f3\", \"#FF6692\", \"#B6E880\", \"#FF97FF\", \"#FECB52\"], \"font\": {\"color\": \"#2a3f5f\"}, \"geo\": {\"bgcolor\": \"white\", \"lakecolor\": \"white\", \"landcolor\": \"#E5ECF6\", \"showlakes\": true, \"showland\": true, \"subunitcolor\": \"white\"}, \"hoverlabel\": {\"align\": \"left\"}, \"hovermode\": \"closest\", \"mapbox\": {\"style\": \"light\"}, \"paper_bgcolor\": \"white\", \"plot_bgcolor\": \"#E5ECF6\", \"polar\": {\"angularaxis\": {\"gridcolor\": \"white\", \"linecolor\": \"white\", \"ticks\": \"\"}, \"bgcolor\": \"#E5ECF6\", \"radialaxis\": {\"gridcolor\": \"white\", \"linecolor\": \"white\", \"ticks\": \"\"}}, \"scene\": {\"xaxis\": {\"backgroundcolor\": \"#E5ECF6\", \"gridcolor\": \"white\", \"gridwidth\": 2, \"linecolor\": \"white\", \"showbackground\": true, \"ticks\": \"\", \"zerolinecolor\": \"white\"}, \"yaxis\": {\"backgroundcolor\": \"#E5ECF6\", \"gridcolor\": \"white\", \"gridwidth\": 2, \"linecolor\": \"white\", \"showbackground\": true, \"ticks\": \"\", \"zerolinecolor\": \"white\"}, \"zaxis\": {\"backgroundcolor\": \"#E5ECF6\", \"gridcolor\": \"white\", \"gridwidth\": 2, \"linecolor\": \"white\", \"showbackground\": true, \"ticks\": \"\", \"zerolinecolor\": \"white\"}}, \"shapedefaults\": {\"line\": {\"color\": \"#2a3f5f\"}}, \"ternary\": {\"aaxis\": {\"gridcolor\": \"white\", \"linecolor\": \"white\", \"ticks\": \"\"}, \"baxis\": {\"gridcolor\": \"white\", \"linecolor\": \"white\", \"ticks\": \"\"}, \"bgcolor\": \"#E5ECF6\", \"caxis\": {\"gridcolor\": \"white\", \"linecolor\": \"white\", \"ticks\": \"\"}}, \"title\": {\"x\": 0.05}, \"xaxis\": {\"automargin\": true, \"gridcolor\": \"white\", \"linecolor\": \"white\", \"ticks\": \"\", \"title\": {\"standoff\": 15}, \"zerolinecolor\": \"white\", \"zerolinewidth\": 2}, \"yaxis\": {\"automargin\": true, \"gridcolor\": \"white\", \"linecolor\": \"white\", \"ticks\": \"\", \"title\": {\"standoff\": 15}, \"zerolinecolor\": \"white\", \"zerolinewidth\": 2}}}, \"title\": {\"text\": \"School Revenue in Dollars\"}, \"xaxis\": {\"anchor\": \"y\", \"domain\": [0.0, 1.0], \"title\": {\"text\": \"Total Revenue\"}}, \"yaxis\": {\"anchor\": \"x\", \"domain\": [0.0, 1.0], \"title\": {\"text\": \"School\"}}},                        {\"responsive\": true}                    ).then(function(){\n",
              "                            \n",
              "var gd = document.getElementById('14fecd2f-144b-4542-9f0e-5ab18852016a');\n",
              "var x = new MutationObserver(function (mutations, observer) {{\n",
              "        var display = window.getComputedStyle(gd).display;\n",
              "        if (!display || display === 'none') {{\n",
              "            console.log([gd, 'removed!']);\n",
              "            Plotly.purge(gd);\n",
              "            observer.disconnect();\n",
              "        }}\n",
              "}});\n",
              "\n",
              "// Listen for the removal of the full notebook cells\n",
              "var notebookContainer = gd.closest('#notebook-container');\n",
              "if (notebookContainer) {{\n",
              "    x.observe(notebookContainer, {childList: true});\n",
              "}}\n",
              "\n",
              "// Listen for the clearing of the current output cell\n",
              "var outputEl = gd.closest('.output');\n",
              "if (outputEl) {{\n",
              "    x.observe(outputEl, {childList: true});\n",
              "}}\n",
              "\n",
              "                        })                };                            </script>        </div>\n",
              "</body>\n",
              "</html>"
            ]
          },
          "metadata": {
            "tags": []
          }
        }
      ]
    },
    {
      "cell_type": "code",
      "metadata": {
        "colab": {
          "base_uri": "https://localhost:8080/"
        },
        "id": "p_C5gZYykWUG",
        "outputId": "518639c6-07bc-4da4-b9e6-e36f1aa3326a"
      },
      "source": [
        "CollegeSportScholarshipProgramsWorksheet = gc.open('College Sport Scholarship Programs').sheet1\n",
        "\n",
        "# get_all_values gives a list of rows.\n",
        "CollegeSportScholarshipProgramsWorksheetRows = CollegeSportScholarshipProgramsWorksheet.get_all_values()\n",
        "print(CollegeSportScholarshipProgramsWorksheetRows)\n",
        "\n",
        "import pandas as pd\n",
        "df = pd.DataFrame.from_records(CollegeSportScholarshipProgramsWorksheetRows)\n",
        "df.columns = df.iloc[0]\n",
        "df = df[1:]\n",
        "\n",
        "# Drop cycling since its value is n/a\n",
        "df = df.drop(6)\n",
        "# Convert column to numeric\n",
        "df['# Colleges Offering Scholarship'] = df['# Colleges Offering Scholarship'].apply(pd.to_numeric)"
      ],
      "execution_count": null,
      "outputs": [
        {
          "output_type": "stream",
          "text": [
            "[['Sport', '# Colleges Offering Scholarship'], ['Volleyball', '1800'], ['Skiing', '41'], ['Rowing', '150'], ['Gymnastics', '80'], ['Bowling', '140'], ['Cycling', 'n/a'], ['Fencing', '45'], ['Field Hockey', '280'], ['Lacrosse', '600'], ['Rifle', '30'], ['Rugby', '30'], ['Softball', '1700'], ['Water Polo', '115'], ['Wrestling', '370'], ['Soccer', '1700'], ['Golf', '1300'], ['Track & Field', '1200'], ['Swimming', '660'], ['Tennis', '1200'], ['Hockey', '170'], ['Basketball', '2000'], ['Football', '900']]\n"
          ],
          "name": "stdout"
        }
      ]
    },
    {
      "cell_type": "code",
      "metadata": {
        "colab": {
          "base_uri": "https://localhost:8080/",
          "height": 542
        },
        "id": "7gFPHAA990HT",
        "outputId": "7bcd5fc5-a921-4583-8893-bf7ed2405e74"
      },
      "source": [
        "fig = px.bar(df.sort_values(by='# Colleges Offering Scholarship', ascending=False), y=\"# Colleges Offering Scholarship\", x=\"Sport\", title='Sport Scholarships Offered by Universities')\n",
        "fig.show()"
      ],
      "execution_count": null,
      "outputs": [
        {
          "output_type": "display_data",
          "data": {
            "text/html": [
              "<html>\n",
              "<head><meta charset=\"utf-8\" /></head>\n",
              "<body>\n",
              "    <div>            <script src=\"https://cdnjs.cloudflare.com/ajax/libs/mathjax/2.7.5/MathJax.js?config=TeX-AMS-MML_SVG\"></script><script type=\"text/javascript\">if (window.MathJax) {MathJax.Hub.Config({SVG: {font: \"STIX-Web\"}});}</script>                <script type=\"text/javascript\">window.PlotlyConfig = {MathJaxConfig: 'local'};</script>\n",
              "        <script src=\"https://cdn.plot.ly/plotly-latest.min.js\"></script>                <div id=\"a48a5743-6c08-4a3e-b497-27fefbf6a60c\" class=\"plotly-graph-div\" style=\"height:525px; width:100%;\"></div>            <script type=\"text/javascript\">                                    window.PLOTLYENV=window.PLOTLYENV || {};                                    if (document.getElementById(\"a48a5743-6c08-4a3e-b497-27fefbf6a60c\")) {                    Plotly.newPlot(                        \"a48a5743-6c08-4a3e-b497-27fefbf6a60c\",                        [{\"alignmentgroup\": \"True\", \"hovertemplate\": \"Sport=%{x}<br># Colleges Offering Scholarship=%{y}<extra></extra>\", \"legendgroup\": \"\", \"marker\": {\"color\": \"#636efa\"}, \"name\": \"\", \"offsetgroup\": \"\", \"orientation\": \"v\", \"showlegend\": false, \"textposition\": \"auto\", \"type\": \"bar\", \"x\": [\"Basketball\", \"Volleyball\", \"Soccer\", \"Softball\", \"Golf\", \"Tennis\", \"Track & Field\", \"Football\", \"Swimming\", \"Lacrosse\", \"Wrestling\", \"Field Hockey\", \"Hockey\", \"Rowing\", \"Bowling\", \"Water Polo\", \"Gymnastics\", \"Fencing\", \"Skiing\", \"Rugby\", \"Rifle\"], \"xaxis\": \"x\", \"y\": [2000, 1800, 1700, 1700, 1300, 1200, 1200, 900, 660, 600, 370, 280, 170, 150, 140, 115, 80, 45, 41, 30, 30], \"yaxis\": \"y\"}],                        {\"barmode\": \"relative\", \"legend\": {\"tracegroupgap\": 0}, \"template\": {\"data\": {\"bar\": [{\"error_x\": {\"color\": \"#2a3f5f\"}, \"error_y\": {\"color\": \"#2a3f5f\"}, \"marker\": {\"line\": {\"color\": \"#E5ECF6\", \"width\": 0.5}}, \"type\": \"bar\"}], \"barpolar\": [{\"marker\": {\"line\": {\"color\": \"#E5ECF6\", \"width\": 0.5}}, \"type\": \"barpolar\"}], \"carpet\": [{\"aaxis\": {\"endlinecolor\": \"#2a3f5f\", \"gridcolor\": \"white\", \"linecolor\": \"white\", \"minorgridcolor\": \"white\", \"startlinecolor\": \"#2a3f5f\"}, \"baxis\": {\"endlinecolor\": \"#2a3f5f\", \"gridcolor\": \"white\", \"linecolor\": \"white\", \"minorgridcolor\": \"white\", \"startlinecolor\": \"#2a3f5f\"}, \"type\": \"carpet\"}], \"choropleth\": [{\"colorbar\": {\"outlinewidth\": 0, \"ticks\": \"\"}, \"type\": \"choropleth\"}], \"contour\": [{\"colorbar\": {\"outlinewidth\": 0, \"ticks\": \"\"}, \"colorscale\": [[0.0, \"#0d0887\"], [0.1111111111111111, \"#46039f\"], [0.2222222222222222, \"#7201a8\"], [0.3333333333333333, \"#9c179e\"], [0.4444444444444444, \"#bd3786\"], [0.5555555555555556, \"#d8576b\"], [0.6666666666666666, \"#ed7953\"], [0.7777777777777778, \"#fb9f3a\"], [0.8888888888888888, \"#fdca26\"], [1.0, \"#f0f921\"]], \"type\": \"contour\"}], \"contourcarpet\": [{\"colorbar\": {\"outlinewidth\": 0, \"ticks\": \"\"}, \"type\": \"contourcarpet\"}], \"heatmap\": [{\"colorbar\": {\"outlinewidth\": 0, \"ticks\": \"\"}, \"colorscale\": [[0.0, \"#0d0887\"], [0.1111111111111111, \"#46039f\"], [0.2222222222222222, \"#7201a8\"], [0.3333333333333333, \"#9c179e\"], [0.4444444444444444, \"#bd3786\"], [0.5555555555555556, \"#d8576b\"], [0.6666666666666666, \"#ed7953\"], [0.7777777777777778, \"#fb9f3a\"], [0.8888888888888888, \"#fdca26\"], [1.0, \"#f0f921\"]], \"type\": \"heatmap\"}], \"heatmapgl\": [{\"colorbar\": {\"outlinewidth\": 0, \"ticks\": \"\"}, \"colorscale\": [[0.0, \"#0d0887\"], [0.1111111111111111, \"#46039f\"], [0.2222222222222222, \"#7201a8\"], [0.3333333333333333, \"#9c179e\"], [0.4444444444444444, \"#bd3786\"], [0.5555555555555556, \"#d8576b\"], [0.6666666666666666, \"#ed7953\"], [0.7777777777777778, \"#fb9f3a\"], [0.8888888888888888, \"#fdca26\"], [1.0, \"#f0f921\"]], \"type\": \"heatmapgl\"}], \"histogram\": [{\"marker\": {\"colorbar\": {\"outlinewidth\": 0, \"ticks\": \"\"}}, \"type\": \"histogram\"}], \"histogram2d\": [{\"colorbar\": {\"outlinewidth\": 0, \"ticks\": \"\"}, \"colorscale\": [[0.0, \"#0d0887\"], [0.1111111111111111, \"#46039f\"], [0.2222222222222222, \"#7201a8\"], [0.3333333333333333, \"#9c179e\"], [0.4444444444444444, \"#bd3786\"], [0.5555555555555556, \"#d8576b\"], [0.6666666666666666, \"#ed7953\"], [0.7777777777777778, \"#fb9f3a\"], [0.8888888888888888, \"#fdca26\"], [1.0, \"#f0f921\"]], \"type\": \"histogram2d\"}], \"histogram2dcontour\": [{\"colorbar\": {\"outlinewidth\": 0, \"ticks\": \"\"}, \"colorscale\": [[0.0, \"#0d0887\"], [0.1111111111111111, \"#46039f\"], [0.2222222222222222, \"#7201a8\"], [0.3333333333333333, \"#9c179e\"], [0.4444444444444444, \"#bd3786\"], [0.5555555555555556, \"#d8576b\"], [0.6666666666666666, \"#ed7953\"], [0.7777777777777778, \"#fb9f3a\"], [0.8888888888888888, \"#fdca26\"], [1.0, \"#f0f921\"]], \"type\": \"histogram2dcontour\"}], \"mesh3d\": [{\"colorbar\": {\"outlinewidth\": 0, \"ticks\": \"\"}, \"type\": \"mesh3d\"}], \"parcoords\": [{\"line\": {\"colorbar\": {\"outlinewidth\": 0, \"ticks\": \"\"}}, \"type\": \"parcoords\"}], \"pie\": [{\"automargin\": true, \"type\": \"pie\"}], \"scatter\": [{\"marker\": {\"colorbar\": {\"outlinewidth\": 0, \"ticks\": \"\"}}, \"type\": \"scatter\"}], \"scatter3d\": [{\"line\": {\"colorbar\": {\"outlinewidth\": 0, \"ticks\": \"\"}}, \"marker\": {\"colorbar\": {\"outlinewidth\": 0, \"ticks\": \"\"}}, \"type\": \"scatter3d\"}], \"scattercarpet\": [{\"marker\": {\"colorbar\": {\"outlinewidth\": 0, \"ticks\": \"\"}}, \"type\": \"scattercarpet\"}], \"scattergeo\": [{\"marker\": {\"colorbar\": {\"outlinewidth\": 0, \"ticks\": \"\"}}, \"type\": \"scattergeo\"}], \"scattergl\": [{\"marker\": {\"colorbar\": {\"outlinewidth\": 0, \"ticks\": \"\"}}, \"type\": \"scattergl\"}], \"scattermapbox\": [{\"marker\": {\"colorbar\": {\"outlinewidth\": 0, \"ticks\": \"\"}}, \"type\": \"scattermapbox\"}], \"scatterpolar\": [{\"marker\": {\"colorbar\": {\"outlinewidth\": 0, \"ticks\": \"\"}}, \"type\": \"scatterpolar\"}], \"scatterpolargl\": [{\"marker\": {\"colorbar\": {\"outlinewidth\": 0, \"ticks\": \"\"}}, \"type\": \"scatterpolargl\"}], \"scatterternary\": [{\"marker\": {\"colorbar\": {\"outlinewidth\": 0, \"ticks\": \"\"}}, \"type\": \"scatterternary\"}], \"surface\": [{\"colorbar\": {\"outlinewidth\": 0, \"ticks\": \"\"}, \"colorscale\": [[0.0, \"#0d0887\"], [0.1111111111111111, \"#46039f\"], [0.2222222222222222, \"#7201a8\"], [0.3333333333333333, \"#9c179e\"], [0.4444444444444444, \"#bd3786\"], [0.5555555555555556, \"#d8576b\"], [0.6666666666666666, \"#ed7953\"], [0.7777777777777778, \"#fb9f3a\"], [0.8888888888888888, \"#fdca26\"], [1.0, \"#f0f921\"]], \"type\": \"surface\"}], \"table\": [{\"cells\": {\"fill\": {\"color\": \"#EBF0F8\"}, \"line\": {\"color\": \"white\"}}, \"header\": {\"fill\": {\"color\": \"#C8D4E3\"}, \"line\": {\"color\": \"white\"}}, \"type\": \"table\"}]}, \"layout\": {\"annotationdefaults\": {\"arrowcolor\": \"#2a3f5f\", \"arrowhead\": 0, \"arrowwidth\": 1}, \"autotypenumbers\": \"strict\", \"coloraxis\": {\"colorbar\": {\"outlinewidth\": 0, \"ticks\": \"\"}}, \"colorscale\": {\"diverging\": [[0, \"#8e0152\"], [0.1, \"#c51b7d\"], [0.2, \"#de77ae\"], [0.3, \"#f1b6da\"], [0.4, \"#fde0ef\"], [0.5, \"#f7f7f7\"], [0.6, \"#e6f5d0\"], [0.7, \"#b8e186\"], [0.8, \"#7fbc41\"], [0.9, \"#4d9221\"], [1, \"#276419\"]], \"sequential\": [[0.0, \"#0d0887\"], [0.1111111111111111, \"#46039f\"], [0.2222222222222222, \"#7201a8\"], [0.3333333333333333, \"#9c179e\"], [0.4444444444444444, \"#bd3786\"], [0.5555555555555556, \"#d8576b\"], [0.6666666666666666, \"#ed7953\"], [0.7777777777777778, \"#fb9f3a\"], [0.8888888888888888, \"#fdca26\"], [1.0, \"#f0f921\"]], \"sequentialminus\": [[0.0, \"#0d0887\"], [0.1111111111111111, \"#46039f\"], [0.2222222222222222, \"#7201a8\"], [0.3333333333333333, \"#9c179e\"], [0.4444444444444444, \"#bd3786\"], [0.5555555555555556, \"#d8576b\"], [0.6666666666666666, \"#ed7953\"], [0.7777777777777778, \"#fb9f3a\"], [0.8888888888888888, \"#fdca26\"], [1.0, \"#f0f921\"]]}, \"colorway\": [\"#636efa\", \"#EF553B\", \"#00cc96\", \"#ab63fa\", \"#FFA15A\", \"#19d3f3\", \"#FF6692\", \"#B6E880\", \"#FF97FF\", \"#FECB52\"], \"font\": {\"color\": \"#2a3f5f\"}, \"geo\": {\"bgcolor\": \"white\", \"lakecolor\": \"white\", \"landcolor\": \"#E5ECF6\", \"showlakes\": true, \"showland\": true, \"subunitcolor\": \"white\"}, \"hoverlabel\": {\"align\": \"left\"}, \"hovermode\": \"closest\", \"mapbox\": {\"style\": \"light\"}, \"paper_bgcolor\": \"white\", \"plot_bgcolor\": \"#E5ECF6\", \"polar\": {\"angularaxis\": {\"gridcolor\": \"white\", \"linecolor\": \"white\", \"ticks\": \"\"}, \"bgcolor\": \"#E5ECF6\", \"radialaxis\": {\"gridcolor\": \"white\", \"linecolor\": \"white\", \"ticks\": \"\"}}, \"scene\": {\"xaxis\": {\"backgroundcolor\": \"#E5ECF6\", \"gridcolor\": \"white\", \"gridwidth\": 2, \"linecolor\": \"white\", \"showbackground\": true, \"ticks\": \"\", \"zerolinecolor\": \"white\"}, \"yaxis\": {\"backgroundcolor\": \"#E5ECF6\", \"gridcolor\": \"white\", \"gridwidth\": 2, \"linecolor\": \"white\", \"showbackground\": true, \"ticks\": \"\", \"zerolinecolor\": \"white\"}, \"zaxis\": {\"backgroundcolor\": \"#E5ECF6\", \"gridcolor\": \"white\", \"gridwidth\": 2, \"linecolor\": \"white\", \"showbackground\": true, \"ticks\": \"\", \"zerolinecolor\": \"white\"}}, \"shapedefaults\": {\"line\": {\"color\": \"#2a3f5f\"}}, \"ternary\": {\"aaxis\": {\"gridcolor\": \"white\", \"linecolor\": \"white\", \"ticks\": \"\"}, \"baxis\": {\"gridcolor\": \"white\", \"linecolor\": \"white\", \"ticks\": \"\"}, \"bgcolor\": \"#E5ECF6\", \"caxis\": {\"gridcolor\": \"white\", \"linecolor\": \"white\", \"ticks\": \"\"}}, \"title\": {\"x\": 0.05}, \"xaxis\": {\"automargin\": true, \"gridcolor\": \"white\", \"linecolor\": \"white\", \"ticks\": \"\", \"title\": {\"standoff\": 15}, \"zerolinecolor\": \"white\", \"zerolinewidth\": 2}, \"yaxis\": {\"automargin\": true, \"gridcolor\": \"white\", \"linecolor\": \"white\", \"ticks\": \"\", \"title\": {\"standoff\": 15}, \"zerolinecolor\": \"white\", \"zerolinewidth\": 2}}}, \"title\": {\"text\": \"Sport Scholarships Offered by Universities\"}, \"xaxis\": {\"anchor\": \"y\", \"domain\": [0.0, 1.0], \"title\": {\"text\": \"Sport\"}}, \"yaxis\": {\"anchor\": \"x\", \"domain\": [0.0, 1.0], \"title\": {\"text\": \"# Colleges Offering Scholarship\"}}},                        {\"responsive\": true}                    ).then(function(){\n",
              "                            \n",
              "var gd = document.getElementById('a48a5743-6c08-4a3e-b497-27fefbf6a60c');\n",
              "var x = new MutationObserver(function (mutations, observer) {{\n",
              "        var display = window.getComputedStyle(gd).display;\n",
              "        if (!display || display === 'none') {{\n",
              "            console.log([gd, 'removed!']);\n",
              "            Plotly.purge(gd);\n",
              "            observer.disconnect();\n",
              "        }}\n",
              "}});\n",
              "\n",
              "// Listen for the removal of the full notebook cells\n",
              "var notebookContainer = gd.closest('#notebook-container');\n",
              "if (notebookContainer) {{\n",
              "    x.observe(notebookContainer, {childList: true});\n",
              "}}\n",
              "\n",
              "// Listen for the clearing of the current output cell\n",
              "var outputEl = gd.closest('.output');\n",
              "if (outputEl) {{\n",
              "    x.observe(outputEl, {childList: true});\n",
              "}}\n",
              "\n",
              "                        })                };                            </script>        </div>\n",
              "</body>\n",
              "</html>"
            ]
          },
          "metadata": {
            "tags": []
          }
        }
      ]
    },
    {
      "cell_type": "code",
      "metadata": {
        "colab": {
          "base_uri": "https://localhost:8080/"
        },
        "id": "Vv5vLULok-sZ",
        "outputId": "d9383e89-3115-40e9-8207-f90c00acca5c"
      },
      "source": [
        "NCAADemographicsDatabaseSpreadsheetWorksheet = gc.open('NCAA Demographics Database Spreadsheet').get_worksheet(3)\n",
        "\n",
        "# get_all_values gives a list of rows.\n",
        "NCAADemographicsDatabaseSpreadsheetWorksheetRows = NCAADemographicsDatabaseSpreadsheetWorksheet.get_all_values()\n",
        "print(NCAADemographicsDatabaseSpreadsheetWorksheetRows)\n",
        "\n",
        "import pandas as pd\n",
        "df = pd.DataFrame.from_records(NCAADemographicsDatabaseSpreadsheetWorksheetRows)\n",
        "df.columns = df.iloc[0]\n",
        "df = df[160:166]\n",
        "df = df.drop(columns=['Division_Subdivision', 'Title/Position'])\n",
        "# Remove commas and convert to numeric\n",
        "df[['2012', '2013', '2014', '2015', '2016', '2017', '2018', '2019', '2020']] = df[['2012', '2013', '2014', '2015', '2016', '2017', '2018', '2019', '2020']].apply(lambda x: x.str.replace(',', '').astype(float), axis=1)\n",
        "df = df.set_index('Gender-Race/Ethnicity')"
      ],
      "execution_count": null,
      "outputs": [
        {
          "output_type": "stream",
          "text": [
            "[['Division_Subdivision', 'Title/Position', 'Gender-Race/Ethnicity', '2012', '2013', '2014', '2015', '2016', '2017', '2018', '2019', '2020'], ['DI FBS Autonomy Five Conferences', 'Chancellor & President', 'Female, Other', '', '', '', '', '', '2', '3', '3', '2'], ['', '', 'Female, White', '', '', '', '', '', '7', '8', '5', '8'], ['', '', 'Male, Black', '', '', '', '', '', '1', '2', '2', '2'], ['', '', 'Male, Other', '', '', '', '', '', '9', '9', '7', '7'], ['', '', 'Male, White', '', '', '', '', '', '60', '51', '60', '53'], ['', 'Director of Athletics', 'Female, Black', '', '', '', '', '', '1', '1', '1', '2'], ['', '', 'Female, White', '4', '4', '3', '4', '6', '5', '5', '4', '2'], ['', '', 'Male, Black', '5', '5', '8', '9', '9', '10', '10', '9', '6'], ['', '', 'Male, Other', '2', '2', '2', '2', '4', '3', '6', '6', '5'], ['', '', 'Male, White', '49', '49', '51', '52', '47', '47', '43', '44', '48'], ['', 'Associate/Assistant AD', 'Female, Black', '25', '24', '24', '31', '29', '40', '49', '62', '50'], ['', '', 'Female, Other', '10', '12', '15', '13', '24', '25', '41', '33', '35'], ['', '', 'Female, White', '180', '198', '230', '257', '254', '290', '314', '331', '346'], ['', '', 'Male, Black', '61', '78', '84', '97', '91', '103', '100', '87', '99'], ['', '', 'Male, Other', '16', '17', '20', '28', '46', '48', '64', '66', '53'], ['', '', 'Male, White', '585', '634', '708', '710', '685', '739', '794', '803', '837'], ['', 'Faculty Athletics Representative', 'Female, Black', '1', '1', '1', '1', '2', '3', '3', '4', '6'], ['', '', 'Female, Other', '', '', '', '', '1', '', '1', '1', '1'], ['', '', 'Female, White', '18', '19', '24', '25', '23', '24', '21', '23', '23'], ['', '', 'Male, Black', '4', '3', '3', '4', '5', '7', '7', '7', '7'], ['', '', 'Male, Other', '3', '1', '1', '1', '2', '1', '3', '3', '2'], ['', '', 'Male, White', '39', '41', '39', '38', '33', '32', '33', '39', '29'], ['', 'Head Coach', 'Female, Black', '19', '18', '16', '19', '26', '27', '26', '32', '39'], ['', '', 'Female, Other', '15', '14', '15', '17', '26', '18', '27', '34', '21'], ['', '', 'Female, White', '252', '260', '271', '292', '277', '290', '277', '289', '294'], ['', '', 'Male, Black', '89', '119', '129', '128', '102', '104', '116', '123', '127'], ['', '', 'Male, Other', '63', '54', '62', '76', '111', '109', '110', '122', '98'], ['', '', 'Male, White', '821', '836', '891', '912', '886', '883', '874', '861', '867'], ['', 'Assistant  Coach', 'Female, Black', '193', '179', '204', '210', '198', '221', '228', '197', '183'], ['', '', 'Female, Other', '79', '57', '65', '89', '120', '129', '117', '153', '111'], ['', '', 'Female, White', '705', '741', '771', '798', '772', '716', '718', '774', '708'], ['', '', 'Male, Black', '587', '622', '676', '690', '688', '704', '732', '769', '756'], ['', '', 'Male, Other', '222', '183', '241', '291', '389', '443', '455', '470', '435'], ['', '', 'Male, White', '2,060', '2,202', '2,365', '2,405', '2,290', '2,282', '2,314', '2,383', '2,213'], ['', 'Student-Athlete', 'Female, Black', '2,412', '2,383', '2,533', '2,591', '2,644', '2,641', '2,569', '2,466', '2,434'], ['', '', 'Female, Other', '3,343', '3,573', '3,899', '4,051', '4,286', '4,645', '4,960', '5,270', '5,452'], ['', '', 'Female, White', '12,722', '12,816', '13,650', '14,119', '13,769', '13,619', '13,613', '13,221', '13,428'], ['', '', 'Male, Black', '5,467', '5,579', '5,860', '6,006', '5,913', '5,900', '5,879', '5,870', '5,761'], ['', '', 'Male, Other', '3,118', '3,520', '3,810', '3,948', '4,354', '4,575', '4,785', '5,122', '5,400'], ['', '', 'Male, White', '12,282', '12,358', '13,290', '13,448', '12,931', '12,616', '12,355', '12,155', '12,164'], ['DI FBS Nonautonomy Conferences', 'Chancellor & President', 'Female, Black', '', '', '', '', '', '', '', '', '1'], ['', '', 'Female, Other', '', '', '', '', '', '2', '5', '4', '5'], ['', '', 'Female, White', '', '', '', '', '', '14', '12', '14', '13'], ['', '', 'Male, Black', '', '', '', '', '', '4', '6', '5', '4'], ['', '', 'Male, Other', '', '', '', '', '', '5', '5', '6', '5'], ['', '', 'Male, White', '', '', '', '', '', '51', '50', '51', '55'], ['', 'Director of Athletics', 'Female, Other', '', '', '', '', '', '1', '1', '2', '2'], ['', '', 'Female, White', '2', '2', '5', '4', '4', '5', '1', '3', '4'], ['', '', 'Male, Black', '5', '5', '5', '5', '3', '3', '2', '4', '4'], ['', '', 'Male, Other', '4', '6', '5', '4', '4', '4', '8', '5', '6'], ['', '', 'Male, White', '51', '48', '46', '49', '53', '52', '52', '53', '49'], ['', 'Associate/Assistant AD', 'Female, Black', '26', '18', '19', '21', '21', '27', '26', '35', '34'], ['', '', 'Female, Other', '14', '14', '10', '17', '17', '17', '24', '18', '20'], ['', '', 'Female, White', '133', '127', '120', '138', '156', '163', '175', '185', '197'], ['', '', 'Male, Black', '37', '34', '30', '29', '40', '42', '46', '44', '56'], ['', '', 'Male, Other', '15', '20', '20', '22', '33', '30', '35', '44', '38'], ['', '', 'Male, White', '404', '400', '415', '409', '448', '494', '495', '491', '526'], ['', 'Faculty Athletics Representative', 'Female, Black', '1', '1', '2', '2', '2', '2', '1', '1', '1'], ['', '', 'Female, Other', '', '', '', '', '', '', '', '1', '4'], ['', '', 'Female, White', '20', '17', '16', '17', '17', '17', '20', '23', '24'], ['', '', 'Male, Black', '1', '1', '', '1', '2', '3', '3', '3', '1'], ['', '', 'Male, Other', '2', '2', '2', '2', '4', '3', '3', '4', '2'], ['', '', 'Male, White', '44', '41', '40', '42', '40', '41', '40', '37', '35'], ['', 'Head Coach', 'Female, Black', '22', '27', '28', '29', '19', '24', '26', '29', '29'], ['', '', 'Female, Other', '24', '31', '26', '27', '33', '31', '29', '29', '36'], ['', '', 'Female, White', '226', '201', '222', '215', '224', '234', '239', '235', '246'], ['', '', 'Male, Black', '109', '100', '75', '62', '78', '76', '76', '84', '77'], ['', '', 'Male, Other', '71', '66', '60', '54', '61', '55', '55', '52', '53'], ['', '', 'Male, White', '717', '716', '718', '718', '747', '749', '748', '742', '748'], ['', 'Assistant  Coach', 'Female, Black', '143', '150', '145', '136', '152', '164', '148', '136', '142'], ['', '', 'Female, Other', '83', '100', '95', '89', '122', '123', '110', '137', '130'], ['', '', 'Female, White', '629', '550', '572', '534', '568', '581', '572', '566', '545'], ['', '', 'Male, Black', '451', '482', '471', '469', '534', '578', '575', '592', '581'], ['', '', 'Male, Other', '174', '218', '178', '194', '219', '235', '263', '282', '282'], ['', '', 'Male, White', '1,832', '1,768', '1,759', '1,800', '1,811', '1,857', '1,832', '1,856', '1,691'], ['', 'Student-Athlete', 'Female, Black', '2,407', '2,321', '2,320', '2,355', '2,475', '2,548', '2,611', '2,554', '2,510'], ['', '', 'Female, Other', '3,269', '3,193', '3,102', '3,280', '3,594', '4,047', '4,011', '4,208', '4,288'], ['', '', 'Female, White', '9,844', '9,427', '9,342', '8,873', '9,130', '8,989', '8,950', '9,086', '9,243'], ['', '', 'Male, Black', '5,250', '5,149', '5,196', '5,184', '5,407', '5,445', '5,811', '5,886', '5,919'], ['', '', 'Male, Other', '2,972', '3,008', '2,949', '3,232', '3,415', '3,793', '3,797', '3,878', '3,898'], ['', '', 'Male, White', '10,099', '9,662', '9,599', '8,785', '9,189', '9,020', '8,848', '8,694', '8,835'], ['DI FCS', 'Chancellor & President', 'Female, Black', '', '', '', '', '', '4', '4', '6', '6'], ['', '', 'Female, Other', '', '', '', '', '', '1', '2', '1', '2'], ['', '', 'Female, White', '', '', '', '', '', '16', '22', '25', '25'], ['', '', 'Male, Black', '', '', '', '', '', '24', '24', '22', '23'], ['', '', 'Male, Other', '', '', '', '', '', '5', '5', '5', '5'], ['', '', 'Male, White', '', '', '', '', '', '92', '93', '92', '89'], ['', 'Director of Athletics', 'Female, Black', '6', '5', '6', '3', '3', '3', '5', '5', '6'], ['', '', 'Female, Other', '2', '2', '2', '2', '2', '2', '2', '2', '2'], ['', '', 'Female, White', '8', '8', '9', '9', '7', '7', '9', '12', '13'], ['', '', 'Male, Black', '20', '22', '20', '22', '24', '24', '22', '23', '25'], ['', '', 'Male, Other', '2', '2', '2', '4', '2', '3', '3', '4', '3'], ['', '', 'Male, White', '91', '89', '91', '92', '90', '90', '88', '81', '80'], ['', 'Associate/Assistant AD', 'Female, Black', '44', '45', '46', '48', '62', '66', '62', '65', '61'], ['', '', 'Female, Other', '8', '10', '13', '5', '6', '9', '12', '18', '13'], ['', '', 'Female, White', '201', '210', '211', '214', '227', '228', '235', '232', '257'], ['', '', 'Male, Black', '60', '52', '60', '67', '70', '65', '62', '71', '72'], ['', '', 'Male, Other', '6', '10', '17', '19', '23', '18', '19', '27', '26'], ['', '', 'Male, White', '423', '455', '485', '464', '494', '509', '497', '521', '501'], ['', 'Faculty Athletics Representative', 'Female, Black', '10', '12', '12', '11', '13', '13', '14', '14', '13'], ['', '', 'Female, Other', '', '', '', '', '1', '2', '2', '2', '2'], ['', '', 'Female, White', '22', '23', '28', '31', '34', '31', '29', '33', '37'], ['', '', 'Male, Black', '18', '17', '16', '15', '12', '11', '9', '10', '9'], ['', '', 'Male, Other', '2', '2', '1', '1', '2', '3', '3', '2', '3'], ['', '', 'Male, White', '74', '72', '73', '67', '63', '65', '69', '66', '58'], ['', 'Head Coach', 'Female, Black', '135', '123', '127', '116', '117', '108', '107', '123', '118'], ['', '', 'Female, Other', '25', '25', '32', '33', '32', '40', '33', '35', '41'], ['', '', 'Female, White', '416', '435', '424', '422', '418', '445', '470', '473', '459'], ['', '', 'Male, Black', '311', '292', '283', '288', '299', '302', '280', '299', '313'], ['', '', 'Male, Other', '81', '80', '88', '77', '94', '73', '83', '69', '71'], ['', '', 'Male, White', '1,441', '1,454', '1,491', '1,489', '1,475', '1,450', '1,444', '1,438', '1,427'], ['', 'Assistant  Coach', 'Female, Black', '265', '288', '338', '324', '331', '319', '308', '334', '344'], ['', '', 'Female, Other', '118', '144', '152', '120', '142', '151', '152', '165', '156'], ['', '', 'Female, White', '1,106', '1,155', '1,136', '1,172', '1,184', '1,185', '1,100', '1,153', '1,061'], ['', '', 'Male, Black', '1,063', '1,071', '1,077', '1,088', '1,074', '1,110', '1,169', '1,183', '1,181'], ['', '', 'Male, Other', '264', '287', '335', '321', '332', '356', '377', '367', '384'], ['', '', 'Male, White', '2,985', '2,942', '3,046', '2,988', '3,088', '3,090', '3,096', '3,062', '2,889'], ['', 'Student-Athlete', 'Female, Black', '5,009', '5,061', '5,160', '5,350', '5,225', '5,358', '5,305', '5,305', '5,296'], ['', '', 'Female, Other', '4,180', '4,544', '5,314', '5,725', '5,679', '5,989', '6,236', '6,460', '6,692'], ['', '', 'Female, White', '18,866', '19,094', '18,896', '18,455', '18,449', '18,608', '18,272', '18,289', '18,300'], ['', '', 'Male, Black', '10,168', '10,394', '10,532', '10,695', '10,860', '10,860', '10,923', '11,151', '11,088'], ['', '', 'Male, Other', '4,569', '4,953', '5,845', '6,261', '6,258', '6,486', '6,861', '6,958', '7,076'], ['', '', 'Male, White', '20,565', '20,049', '19,784', '19,273', '19,185', '18,704', '18,504', '18,409', '18,215'], ['DI Subdivision', 'Chancellor & President', 'Female, Black', '', '', '', '', '', '3', '3', '3', '2'], ['', '', 'Female, Other', '', '', '', '', '', '1', '1', '4', '3'], ['', '', 'Female, White', '', '', '', '', '', '19', '13', '18', '18'], ['', '', 'Male, Black', '', '', '', '', '', '6', '6', '3', '6'], ['', '', 'Male, Other', '', '', '', '', '', '10', '11', '14', '17'], ['', '', 'Male, White', '', '', '', '', '', '76', '72', '70', '68'], ['', 'Director of Athletics', 'Female, Black', '', '', '1', '2', '4', '2', '1', '2', '2'], ['', '', 'Female, Other', '3', '2', '1', '1', '1', '1', '1', '1', '3'], ['', '', 'Female, White', '8', '9', '9', '9', '10', '13', '13', '17', '16'], ['', '', 'Male, Black', '8', '11', '9', '11', '10', '11', '11', '7', '10'], ['', '', 'Male, Other', '3', '3', '2', '1', '1', '2', '2', '2', '1'], ['', '', 'Male, White', '77', '79', '78', '74', '73', '70', '70', '67', '64'], ['', 'Associate/Assistant AD', 'Female, Black', '22', '18', '19', '19', '26', '20', '22', '17', '21'], ['', '', 'Female, Other', '13', '22', '17', '18', '21', '16', '20', '17', '29'], ['', '', 'Female, White', '167', '200', '203', '189', '187', '190', '211', '221', '217'], ['', '', 'Male, Black', '34', '36', '38', '34', '36', '39', '43', '43', '46'], ['', '', 'Male, Other', '16', '25', '21', '21', '21', '22', '26', '30', '40'], ['', '', 'Male, White', '334', '367', '382', '379', '373', '398', '390', '389', '387'], ['', 'Faculty Athletics Representative', 'Female, Black', '', '', '1', '', '3', '2', '2', '2', '1'], ['', '', 'Female, Other', '1', '3', '1', '3', '2', '2', '2', '2', '2'], ['', '', 'Female, White', '32', '33', '30', '31', '32', '30', '27', '24', '21'], ['', '', 'Male, Black', '9', '8', '8', '8', '8', '9', '9', '9', '8'], ['', '', 'Male, Other', '', '', '2', '3', '1', '3', '1', '2', '4'], ['', '', 'Male, White', '59', '62', '60', '56', '54', '56', '58', '61', '64'], ['', 'Head Coach', 'Female, Black', '47', '48', '47', '50', '53', '53', '50', '40', '42'], ['', '', 'Female, Other', '26', '33', '29', '27', '30', '33', '28', '39', '49'], ['', '', 'Female, White', '279', '298', '297', '306', '302', '303', '315', '298', '288'], ['', '', 'Male, Black', '119', '113', '115', '115', '119', '116', '119', '138', '135'], ['', '', 'Male, Other', '111', '119', '106', '96', '91', '109', '98', '105', '111'], ['', '', 'Male, White', '1,101', '1,140', '1,144', '1,130', '1,110', '1,089', '1,097', '1,100', '1,065'], ['', 'Assistant  Coach', 'Female, Black', '180', '175', '188', '213', '230', '223', '198', '216', '199'], ['', '', 'Female, Other', '143', '142', '138', '106', '107', '135', '144', '126', '118'], ['', '', 'Female, White', '886', '911', '891', '940', '899', '846', '866', '940', '807'], ['', '', 'Male, Black', '368', '377', '350', '332', '337', '380', '407', '418', '384'], ['', '', 'Male, Other', '274', '294', '278', '272', '272', '288', '281', '273', '272'], ['', '', 'Male, White', '1,659', '1,863', '1,914', '1,852', '1,960', '1,963', '1,884', '1,893', '1,615'], ['', 'Student-Athlete', 'Female, Black', '2,407', '2,609', '2,556', '2,611', '2,474', '2,438', '2,391', '2,426', '2,356'], ['', '', 'Female, Other', '3,241', '3,782', '3,740', '4,079', '4,313', '4,479', '4,678', '5,014', '5,218'], ['', '', 'Female, White', '12,193', '12,576', '12,916', '12,743', '12,393', '12,385', '12,169', '12,110', '12,055'], ['', '', 'Male, Black', '2,379', '2,473', '2,603', '2,594', '2,502', '2,512', '2,485', '2,560', '2,591'], ['', '', 'Male, Other', '3,486', '4,011', '3,894', '4,031', '4,326', '4,487', '4,635', '4,795', '5,098'], ['', '', 'Male, White', '10,818', '10,908', '11,191', '11,131', '10,702', '10,531', '10,400', '10,771', '10,438'], ['Division II', 'Chancellor & President', 'Female, Black', '', '', '', '', '', '8', '13', '21', '19'], ['', '', 'Female, Other', '', '', '', '', '', '8', '12', '11', '7'], ['', '', 'Female, White', '', '', '', '', '', '62', '68', '66', '73'], ['', '', 'Male, Black', '', '', '', '', '', '31', '28', '24', '24'], ['', '', 'Male, Other', '', '', '', '', '', '24', '26', '28', '30'], ['', '', 'Male, White', '', '', '', '', '', '214', '208', '218', '217'], ['', 'Director of Athletics', 'Female, Black', '10', '12', '7', '9', '7', '7', '7', '9', '9'], ['', '', 'Female, Other', '2', '3', '1', '1', '2', '2', '2', '2', '3'], ['', '', 'Female, White', '43', '43', '48', '48', '40', '41', '48', '45', '57'], ['', '', 'Male, Black', '30', '26', '29', '30', '35', '34', '31', '32', '27'], ['', '', 'Male, Other', '9', '11', '12', '11', '11', '16', '14', '12', '13'], ['', '', 'Male, White', '191', '196', '200', '204', '211', '206', '209', '213', '207'], ['', 'Associate/Assistant AD', 'Female, Black', '29', '35', '37', '33', '32', '36', '40', '42', '47'], ['', '', 'Female, Other', '10', '7', '10', '10', '13', '14', '14', '17', '17'], ['', '', 'Female, White', '218', '222', '229', '233', '259', '275', '299', '294', '322'], ['', '', 'Male, Black', '43', '36', '40', '39', '38', '37', '46', '49', '47'], ['', '', 'Male, Other', '19', '23', '27', '28', '38', '41', '51', '51', '50'], ['', '', 'Male, White', '319', '340', '365', '402', '437', '448', '467', '465', '507'], ['', 'Faculty Athletics Representative', 'Female, Black', '6', '8', '7', '7', '7', '7', '6', '8', '8'], ['', '', 'Female, Other', '2', '5', '2', '2', '3', '3', '3', '3', '4'], ['', '', 'Female, White', '64', '61', '67', '74', '78', '81', '82', '79', '82'], ['', '', 'Male, Black', '25', '21', '20', '21', '22', '23', '22', '22', '24'], ['', '', 'Male, Other', '10', '12', '13', '12', '9', '12', '12', '11', '13'], ['', '', 'Male, White', '181', '182', '187', '182', '187', '183', '182', '187', '181'], ['', 'Head Coach', 'Female, Black', '110', '118', '119', '120', '121', '113', '125', '137', '138'], ['', '', 'Female, Other', '58', '79', '84', '93', '91', '104', '104', '97', '119'], ['', '', 'Female, White', '695', '702', '739', '783', '812', '823', '859', '866', '878'], ['', '', 'Male, Black', '400', '364', '359', '365', '358', '362', '370', '406', '393'], ['', '', 'Male, Other', '224', '266', '239', '249', '270', '291', '299', '280', '306'], ['', '', 'Male, White', '2,735', '2,795', '2,912', '3,042', '3,115', '3,143', '3,182', '3,188', '3,252'], ['', 'Assistant  Coach', 'Female, Black', '326', '346', '310', '342', '325', '362', '373', '442', '419'], ['', '', 'Female, Other', '207', '245', '305', '256', '325', '381', '408', '453', '366'], ['', '', 'Female, White', '1,655', '1,694', '1,689', '1,820', '1,755', '1,900', '2,056', '2,016', '2,008'], ['', '', 'Male, Black', '1,089', '1,112', '1,137', '1,269', '1,257', '1,320', '1,338', '1,411', '1,433'], ['', '', 'Male, Other', '627', '650', '700', '728', '867', '926', '988', '1,008', '819'], ['', '', 'Male, White', '4,380', '4,487', '4,597', '4,795', '4,877', '5,073', '5,244', '5,287', '5,002'], ['', 'Student-Athlete', 'Female, Black', '5,332', '5,452', '5,662', '5,946', '6,058', '6,267', '6,678', '6,768', '6,948'], ['', '', 'Female, Other', '6,102', '6,789', '7,233', '8,253', '8,989', '9,583', '10,537', '11,137', '11,955'], ['', '', 'Female, White', '28,179', '28,955', '30,442', '31,808', '32,334', '32,975', '33,082', '33,178', '34,186'], ['', '', 'Male, Black', '14,041', '14,259', '14,678', '16,109', '16,366', '16,717', '16,951', '16,851', '17,564'], ['', '', 'Male, Other', '8,703', '9,810', '10,518', '11,719', '12,747', '13,485', '14,581', '15,670', '16,441'], ['', '', 'Male, White', '34,866', '35,165', '36,592', '37,728', '37,744', '37,454', '37,933', '37,942', '38,399'], ['Division III', 'Chancellor & President', 'Female, Black', '', '', '', '', '', '14', '16', '16', '14'], ['', '', 'Female, Other', '', '', '', '', '', '4', '8', '11', '7'], ['', '', 'Female, White', '', '', '', '', '', '133', '143', '143', '158'], ['', '', 'Male, Black', '', '', '', '', '', '8', '13', '15', '15'], ['', '', 'Male, Other', '', '', '', '', '', '18', '19', '21', '20'], ['', '', 'Male, White', '', '', '', '', '', '281', '287', '287', '281'], ['', 'Director of Athletics', 'Female, Black', '4', '5', '7', '7', '5', '6', '9', '9', '11'], ['', '', 'Female, Other', '2', '2', '2', '2', '4', '4', '2', '2', '2'], ['', '', 'Female, White', '117', '123', '124', '124', '125', '132', '130', '131', '132'], ['', '', 'Male, Black', '13', '15', '12', '13', '15', '15', '14', '14', '15'], ['', '', 'Male, Other', '3', '7', '4', '5', '6', '6', '9', '9', '11'], ['', '', 'Male, White', '301', '289', '297', '295', '292', '286', '283', '281', '274'], ['', 'Associate/Assistant AD', 'Female, Black', '14', '12', '13', '17', '19', '21', '22', '26', '22'], ['', '', 'Female, Other', '4', '13', '16', '11', '8', '11', '15', '13', '17'], ['', '', 'Female, White', '308', '315', '322', '345', '356', '384', '399', '414', '420'], ['', '', 'Male, Black', '20', '28', '24', '26', '28', '25', '25', '25', '28'], ['', '', 'Male, Other', '16', '13', '13', '12', '11', '10', '16', '15', '17'], ['', '', 'Male, White', '429', '431', '474', '499', '493', '500', '518', '530', '547'], ['', 'Faculty Athletics Representative', 'Female, Black', '3', '2', '2', '2', '4', '3', '6', '4', '4'], ['', '', 'Female, Other', '2', '5', '4', '3', '6', '7', '5', '7', '11'], ['', '', 'Female, White', '144', '156', '154', '160', '172', '171', '177', '181', '188'], ['', '', 'Male, Black', '14', '12', '11', '15', '15', '12', '12', '10', '9'], ['', '', 'Male, Other', '15', '9', '12', '8', '8', '11', '13', '13', '13'], ['', '', 'Male, White', '309', '307', '298', '298', '292', '288', '284', '286', '278'], ['', 'Head Coach', 'Female, Black', '56', '54', '53', '54', '60', '66', '85', '79', '82'], ['', '', 'Female, Other', '59', '74', '79', '77', '70', '87', '88', '98', '119'], ['', '', 'Female, White', '1,772', '1,777', '1,842', '1,859', '1,926', '1,961', '1,994', '2,050', '2,041'], ['', '', 'Male, Black', '278', '285', '315', '336', '328', '342', '328', '329', '372'], ['', '', 'Male, Other', '243', '229', '243', '214', '209', '203', '228', '244', '304'], ['', '', 'Male, White', '5,187', '5,266', '5,253', '5,287', '5,365', '5,400', '5,499', '5,582', '5,475'], ['', 'Assistant  Coach', 'Female, Black', '236', '257', '255', '317', '283', '330', '388', '402', '385'], ['', '', 'Female, Other', '190', '245', '263', '318', '299', '295', '384', '394', '417'], ['', '', 'Female, White', '4,020', '4,331', '4,515', '4,568', '4,721', '4,831', '5,043', '5,072', '4,962'], ['', '', 'Male, Black', '1,058', '1,119', '1,063', '1,105', '1,145', '1,192', '1,277', '1,382', '1,359'], ['', '', 'Male, Other', '616', '748', '785', '837', '850', '879', '956', '952', '913'], ['', '', 'Male, White', '10,366', '10,497', '10,669', '10,879', '11,156', '11,216', '11,302', '11,557', '10,892'], ['', 'Student-Athlete', 'Female, Black', '4,015', '4,088', '4,174', '4,371', '4,611', '4,676', '4,868', '4,936', '4,905'], ['', '', 'Female, Other', '8,322', '9,745', '10,343', '10,758', '10,896', '11,357', '11,944', '12,717', '13,257'], ['', '', 'Female, White', '61,087', '62,056', '62,354', '62,608', '63,023', '63,600', '63,889', '64,302', '64,397'], ['', '', 'Male, Black', '10,639', '10,886', '11,260', '12,054', '12,758', '13,405', '14,287', '14,323', '14,046'], ['', '', 'Male, Other', '11,954', '13,842', '14,352', '15,419', '15,684', '16,671', '17,348', '18,121', '19,272'], ['', '', 'Male, White', '79,861', '79,589', '80,704', '79,996', '80,289', '80,020', '79,683', '80,088', '79,494']]\n"
          ],
          "name": "stdout"
        }
      ]
    },
    {
      "cell_type": "code",
      "metadata": {
        "colab": {
          "base_uri": "https://localhost:8080/",
          "height": 643
        },
        "id": "J8Bo_gqbFka-",
        "outputId": "4a67649d-6fda-471a-93dc-d0c5e9d45c3c"
      },
      "source": [
        "sns.set(rc={'figure.figsize':(14.7,10.27)})\n",
        "ax = df.T.plot.line()\n",
        "ax.set(xlabel=\"Year\", ylabel=\"Number of Students\")\n",
        "ax"
      ],
      "execution_count": null,
      "outputs": [
        {
          "output_type": "execute_result",
          "data": {
            "text/plain": [
              "<matplotlib.axes._subplots.AxesSubplot at 0x7f82cc4b8a10>"
            ]
          },
          "metadata": {
            "tags": []
          },
          "execution_count": 166
        },
        {
          "output_type": "display_data",
          "data": {
            "image/png": "[encoded data removed]",
            "text/plain": [
              "<Figure size 1058.4x739.44 with 1 Axes>"
            ]
          },
          "metadata": {
            "tags": []
          }
        }
      ]
    },
    {
      "cell_type": "code",
      "metadata": {
        "colab": {
          "base_uri": "https://localhost:8080/"
        },
        "id": "GbipnhvdMSK9",
        "outputId": "6347d096-12b7-4a89-ff5e-b6479efb9998"
      },
      "source": [
        "WomenHStoNCAAWorksheet = gc.open('estimated probability of competing in college athletics').get_worksheet(1)\n",
        "\n",
        "# get_all_values gives a list of rows.\n",
        "WomenHStoNCAAWorksheetRows = WomenHStoNCAAWorksheet.get_all_values()\n",
        "print(WomenHStoNCAAWorksheetRows)\n",
        "\n",
        "df_women = pd.DataFrame.from_records(WomenHStoNCAAWorksheetRows)\n",
        "df_women.columns = df_women.iloc[0]\n",
        "df_women = df_women[1:]\n",
        "#df_women = df_women.set_index('')\n",
        "\n",
        "MenHStoNCAAWorksheet = gc.open('estimated probability of competing in college athletics').get_worksheet(2)\n",
        "\n",
        "# get_all_values gives a list of rows.\n",
        "MenHStoNCAAWorksheetRows = MenHStoNCAAWorksheet.get_all_values()\n",
        "print(MenHStoNCAAWorksheetRows)\n",
        "\n",
        "df_men = pd.DataFrame.from_records(MenHStoNCAAWorksheetRows)\n",
        "df_men.columns = df_men.iloc[0]\n",
        "df_men = df_men[1:]\n",
        "#df_men = df_men.set_index('')"
      ],
      "execution_count": 16,
      "outputs": [
        {
          "output_type": "stream",
          "text": [
            "[['Sport', 'High School Participants', 'NCAA Participants', 'Overall % HS to NCAA', '% HS to NCAA Division I', '% HS to NCAA Division II', '% HS to NCAA Division III'], ['Basketball', '399,067', '16,509', '4.10%', '1.30%', '1.20%', '1.70%'], ['Cross Country', '219,345', '15,624', '7.10%', '2.70%', '1.70%', '2.70%'], ['Field Hockey', '60,824', '6,119', '10.10%', '2.90%', '1.40%', '5.80%'], ['Golf', '79,821', '5,436', '6.80%', '2.80%', '1.90%', '2.10%'], ['Ice Hockey', '9,650', '2,531', '26.20%', '8.90%', '1.10%', '16.20%'], ['Lacrosse', '99,750', '12,452', '12.50%', '3.70%', '2.60%', '6.20%'], ['Soccer', '394,105', '28,310', '7.20%', '2.40%', '1.90%', '2.90%'], ['Softball', '362,038', '20,419', '5.60%', '1.80%', '1.70%', '2.20%'], ['Swimming', '173,088', '12,980', '7.50%', '3.30%', '1.20%', '3.00%'], ['Tennis', '189,436', '8,596', '4.50%', '1.50%', '1.00%', '2.00%'], ['Track & Field', '488,267', '30,326', '6.20%', '2.80%', '1.50%', '1.90%'], ['Volleyball', '452,808', '17,780', '3.90%', '1.20%', '1.10%', '1.60%'], ['Water Polo', '21,735', '1,217', '5.60%', '3.30%', '1.10%', '1.20%']]\n",
            "[['Sport', 'High School Participants', 'NCAA Participants', 'Overall % HS to NCAA', '% HS to NCAA Division I', '% HS to NCAA Division II', '% HS to NCAA Division III'], ['Baseball', '482,740', '36,011', '7.50%', '2.20%', '2.30%', '2.90%'], ['Basketball', '540,769', '18,816', '3.50%', '1.00%', '1.00%', '1.40%'], ['Cross Country', '269,295', '14,303', '5.30%', '1.80%', '1.40%', '2.10%'], ['Football', '1,006,013', '73,712', '7.30%', '2.90%', '1.90%', '2.50%'], ['Golf', '143,200', '8,485', '5.90%', '2.00%', '1.60%', '2.20%'], ['Ice Hockey', '35,283', '4,323', '12.30%', '4.80%', '0.60%', '6.80%'], ['Lacrosse', '113,702', '14,603', '12.80%', '3.10%', '2.50%', '7.30%'], ['Soccer', '459,077', '25,499', '5.60%', '1.30%', '1.50%', '2.70%'], ['Swimming', '136,638', '9,799', '7.20%', '2.80%', '1.20%', '3.20%'], ['Tennis', '159,314', '7,785', '4.90%', '1.60%', '1.00%', '2.30%'], ['Track & Field', '605,354', '28,914', '4.80%', '1.90%', '1.20%', '1.70%'], ['Volleyball', '63,563', '2,355', '3.70%', '0.70%', '0.70%', '2.30%'], ['Water Polo', '22,475', '1,072', '4.80%', '2.70%', '0.80%', '1.30%'], ['Wrestling', '247,441', '7,300', '3.00%', '1.00%', '0.80%', '1.20%']]\n"
          ],
          "name": "stdout"
        }
      ]
    },
    {
      "cell_type": "code",
      "metadata": {
        "colab": {
          "base_uri": "https://localhost:8080/",
          "height": 447
        },
        "id": "5LePP-NySNph",
        "outputId": "b8116425-4460-4c35-831f-46876acbc98d"
      },
      "source": [
        "df_women"
      ],
      "execution_count": 17,
      "outputs": [
        {
          "output_type": "execute_result",
          "data": {
            "text/html": [
              "<div>\n",
              "<style scoped>\n",
              "    .dataframe tbody tr th:only-of-type {\n",
              "        vertical-align: middle;\n",
              "    }\n",
              "\n",
              "    .dataframe tbody tr th {\n",
              "        vertical-align: top;\n",
              "    }\n",
              "\n",
              "    .dataframe thead th {\n",
              "        text-align: right;\n",
              "    }\n",
              "</style>\n",
              "<table border=\"1\" class=\"dataframe\">\n",
              "  <thead>\n",
              "    <tr style=\"text-align: right;\">\n",
              "      <th></th>\n",
              "      <th>Sport</th>\n",
              "      <th>High School Participants</th>\n",
              "      <th>NCAA Participants</th>\n",
              "      <th>Overall % HS to NCAA</th>\n",
              "      <th>% HS to NCAA Division I</th>\n",
              "      <th>% HS to NCAA Division II</th>\n",
              "      <th>% HS to NCAA Division III</th>\n",
              "    </tr>\n",
              "  </thead>\n",
              "  <tbody>\n",
              "    <tr>\n",
              "      <th>1</th>\n",
              "      <td>Basketball</td>\n",
              "      <td>399,067</td>\n",
              "      <td>16,509</td>\n",
              "      <td>4.10%</td>\n",
              "      <td>1.30%</td>\n",
              "      <td>1.20%</td>\n",
              "      <td>1.70%</td>\n",
              "    </tr>\n",
              "    <tr>\n",
              "      <th>2</th>\n",
              "      <td>Cross Country</td>\n",
              "      <td>219,345</td>\n",
              "      <td>15,624</td>\n",
              "      <td>7.10%</td>\n",
              "      <td>2.70%</td>\n",
              "      <td>1.70%</td>\n",
              "      <td>2.70%</td>\n",
              "    </tr>\n",
              "    <tr>\n",
              "      <th>3</th>\n",
              "      <td>Field Hockey</td>\n",
              "      <td>60,824</td>\n",
              "      <td>6,119</td>\n",
              "      <td>10.10%</td>\n",
              "      <td>2.90%</td>\n",
              "      <td>1.40%</td>\n",
              "      <td>5.80%</td>\n",
              "    </tr>\n",
              "    <tr>\n",
              "      <th>4</th>\n",
              "      <td>Golf</td>\n",
              "      <td>79,821</td>\n",
              "      <td>5,436</td>\n",
              "      <td>6.80%</td>\n",
              "      <td>2.80%</td>\n",
              "      <td>1.90%</td>\n",
              "      <td>2.10%</td>\n",
              "    </tr>\n",
              "    <tr>\n",
              "      <th>5</th>\n",
              "      <td>Ice Hockey</td>\n",
              "      <td>9,650</td>\n",
              "      <td>2,531</td>\n",
              "      <td>26.20%</td>\n",
              "      <td>8.90%</td>\n",
              "      <td>1.10%</td>\n",
              "      <td>16.20%</td>\n",
              "    </tr>\n",
              "    <tr>\n",
              "      <th>6</th>\n",
              "      <td>Lacrosse</td>\n",
              "      <td>99,750</td>\n",
              "      <td>12,452</td>\n",
              "      <td>12.50%</td>\n",
              "      <td>3.70%</td>\n",
              "      <td>2.60%</td>\n",
              "      <td>6.20%</td>\n",
              "    </tr>\n",
              "    <tr>\n",
              "      <th>7</th>\n",
              "      <td>Soccer</td>\n",
              "      <td>394,105</td>\n",
              "      <td>28,310</td>\n",
              "      <td>7.20%</td>\n",
              "      <td>2.40%</td>\n",
              "      <td>1.90%</td>\n",
              "      <td>2.90%</td>\n",
              "    </tr>\n",
              "    <tr>\n",
              "      <th>8</th>\n",
              "      <td>Softball</td>\n",
              "      <td>362,038</td>\n",
              "      <td>20,419</td>\n",
              "      <td>5.60%</td>\n",
              "      <td>1.80%</td>\n",
              "      <td>1.70%</td>\n",
              "      <td>2.20%</td>\n",
              "    </tr>\n",
              "    <tr>\n",
              "      <th>9</th>\n",
              "      <td>Swimming</td>\n",
              "      <td>173,088</td>\n",
              "      <td>12,980</td>\n",
              "      <td>7.50%</td>\n",
              "      <td>3.30%</td>\n",
              "      <td>1.20%</td>\n",
              "      <td>3.00%</td>\n",
              "    </tr>\n",
              "    <tr>\n",
              "      <th>10</th>\n",
              "      <td>Tennis</td>\n",
              "      <td>189,436</td>\n",
              "      <td>8,596</td>\n",
              "      <td>4.50%</td>\n",
              "      <td>1.50%</td>\n",
              "      <td>1.00%</td>\n",
              "      <td>2.00%</td>\n",
              "    </tr>\n",
              "    <tr>\n",
              "      <th>11</th>\n",
              "      <td>Track &amp; Field</td>\n",
              "      <td>488,267</td>\n",
              "      <td>30,326</td>\n",
              "      <td>6.20%</td>\n",
              "      <td>2.80%</td>\n",
              "      <td>1.50%</td>\n",
              "      <td>1.90%</td>\n",
              "    </tr>\n",
              "    <tr>\n",
              "      <th>12</th>\n",
              "      <td>Volleyball</td>\n",
              "      <td>452,808</td>\n",
              "      <td>17,780</td>\n",
              "      <td>3.90%</td>\n",
              "      <td>1.20%</td>\n",
              "      <td>1.10%</td>\n",
              "      <td>1.60%</td>\n",
              "    </tr>\n",
              "    <tr>\n",
              "      <th>13</th>\n",
              "      <td>Water Polo</td>\n",
              "      <td>21,735</td>\n",
              "      <td>1,217</td>\n",
              "      <td>5.60%</td>\n",
              "      <td>3.30%</td>\n",
              "      <td>1.10%</td>\n",
              "      <td>1.20%</td>\n",
              "    </tr>\n",
              "  </tbody>\n",
              "</table>\n",
              "</div>"
            ],
            "text/plain": [
              "0           Sport  ... % HS to NCAA Division III\n",
              "1      Basketball  ...                     1.70%\n",
              "2   Cross Country  ...                     2.70%\n",
              "3    Field Hockey  ...                     5.80%\n",
              "4            Golf  ...                     2.10%\n",
              "5      Ice Hockey  ...                    16.20%\n",
              "6        Lacrosse  ...                     6.20%\n",
              "7          Soccer  ...                     2.90%\n",
              "8        Softball  ...                     2.20%\n",
              "9        Swimming  ...                     3.00%\n",
              "10         Tennis  ...                     2.00%\n",
              "11  Track & Field  ...                     1.90%\n",
              "12     Volleyball  ...                     1.60%\n",
              "13     Water Polo  ...                     1.20%\n",
              "\n",
              "[13 rows x 7 columns]"
            ]
          },
          "metadata": {
            "tags": []
          },
          "execution_count": 17
        }
      ]
    },
    {
      "cell_type": "code",
      "metadata": {
        "colab": {
          "base_uri": "https://localhost:8080/",
          "height": 542
        },
        "id": "yleVk7dWkq2O",
        "outputId": "4807795e-0319-44ac-b83f-3c8e3c6e1891"
      },
      "source": [
        "#data_canada = px.data.gapminder().query(\"country == 'Canada'\")\n",
        "import plotly.express as px\n",
        "\n",
        "df_women[df_women.columns[3]] = df_women[df_women.columns[3]].replace('[\\%,]', '', regex=True).astype(float)\n",
        "\n",
        "fig = px.bar(df_women.sort_values(by='Sport', ascending=True), y='Overall % HS to NCAA', x='Sport', title='% of High School Athletes competing in NCAA')\n",
        "\n",
        "fig.show()\n",
        "\n"
      ],
      "execution_count": 54,
      "outputs": [
        {
          "output_type": "display_data",
          "data": {
            "text/html": [
              "<html>\n",
              "<head><meta charset=\"utf-8\" /></head>\n",
              "<body>\n",
              "    <div>            <script src=\"https://cdnjs.cloudflare.com/ajax/libs/mathjax/2.7.5/MathJax.js?config=TeX-AMS-MML_SVG\"></script><script type=\"text/javascript\">if (window.MathJax) {MathJax.Hub.Config({SVG: {font: \"STIX-Web\"}});}</script>                <script type=\"text/javascript\">window.PlotlyConfig = {MathJaxConfig: 'local'};</script>\n",
              "        <script src=\"https://cdn.plot.ly/plotly-latest.min.js\"></script>                <div id=\"bd3ee371-c105-4a3c-bd0c-86327b88e27e\" class=\"plotly-graph-div\" style=\"height:525px; width:100%;\"></div>            <script type=\"text/javascript\">                                    window.PLOTLYENV=window.PLOTLYENV || {};                                    if (document.getElementById(\"bd3ee371-c105-4a3c-bd0c-86327b88e27e\")) {                    Plotly.newPlot(                        \"bd3ee371-c105-4a3c-bd0c-86327b88e27e\",                        [{\"alignmentgroup\": \"True\", \"hovertemplate\": \"Sport=%{x}<br>Overall % HS to NCAA=%{y}<extra></extra>\", \"legendgroup\": \"\", \"marker\": {\"color\": \"#636efa\"}, \"name\": \"\", \"offsetgroup\": \"\", \"orientation\": \"v\", \"showlegend\": false, \"textposition\": \"auto\", \"type\": \"bar\", \"x\": [\"Basketball\", \"Cross Country\", \"Field Hockey\", \"Golf\", \"Ice Hockey\", \"Lacrosse\", \"Soccer\", \"Softball\", \"Swimming\", \"Tennis\", \"Track & Field\", \"Volleyball\", \"Water Polo\"], \"xaxis\": \"x\", \"y\": [4.1, 7.1, 10.1, 6.8, 26.2, 12.5, 7.2, 5.6, 7.5, 4.5, 6.2, 3.9, 5.6], \"yaxis\": \"y\"}],                        {\"barmode\": \"relative\", \"legend\": {\"tracegroupgap\": 0}, \"template\": {\"data\": {\"bar\": [{\"error_x\": {\"color\": \"#2a3f5f\"}, \"error_y\": {\"color\": \"#2a3f5f\"}, \"marker\": {\"line\": {\"color\": \"#E5ECF6\", \"width\": 0.5}}, \"type\": \"bar\"}], \"barpolar\": [{\"marker\": {\"line\": {\"color\": \"#E5ECF6\", \"width\": 0.5}}, \"type\": \"barpolar\"}], \"carpet\": [{\"aaxis\": {\"endlinecolor\": \"#2a3f5f\", \"gridcolor\": \"white\", \"linecolor\": \"white\", \"minorgridcolor\": \"white\", \"startlinecolor\": \"#2a3f5f\"}, \"baxis\": {\"endlinecolor\": \"#2a3f5f\", \"gridcolor\": \"white\", \"linecolor\": \"white\", \"minorgridcolor\": \"white\", \"startlinecolor\": \"#2a3f5f\"}, \"type\": \"carpet\"}], \"choropleth\": [{\"colorbar\": {\"outlinewidth\": 0, \"ticks\": \"\"}, \"type\": \"choropleth\"}], \"contour\": [{\"colorbar\": {\"outlinewidth\": 0, \"ticks\": \"\"}, \"colorscale\": [[0.0, \"#0d0887\"], [0.1111111111111111, \"#46039f\"], [0.2222222222222222, \"#7201a8\"], [0.3333333333333333, \"#9c179e\"], [0.4444444444444444, \"#bd3786\"], [0.5555555555555556, \"#d8576b\"], [0.6666666666666666, \"#ed7953\"], [0.7777777777777778, \"#fb9f3a\"], [0.8888888888888888, \"#fdca26\"], [1.0, \"#f0f921\"]], \"type\": \"contour\"}], \"contourcarpet\": [{\"colorbar\": {\"outlinewidth\": 0, \"ticks\": \"\"}, \"type\": \"contourcarpet\"}], \"heatmap\": [{\"colorbar\": {\"outlinewidth\": 0, \"ticks\": \"\"}, \"colorscale\": [[0.0, \"#0d0887\"], [0.1111111111111111, \"#46039f\"], [0.2222222222222222, \"#7201a8\"], [0.3333333333333333, \"#9c179e\"], [0.4444444444444444, \"#bd3786\"], [0.5555555555555556, \"#d8576b\"], [0.6666666666666666, \"#ed7953\"], [0.7777777777777778, \"#fb9f3a\"], [0.8888888888888888, \"#fdca26\"], [1.0, \"#f0f921\"]], \"type\": \"heatmap\"}], \"heatmapgl\": [{\"colorbar\": {\"outlinewidth\": 0, \"ticks\": \"\"}, \"colorscale\": [[0.0, \"#0d0887\"], [0.1111111111111111, \"#46039f\"], [0.2222222222222222, \"#7201a8\"], [0.3333333333333333, \"#9c179e\"], [0.4444444444444444, \"#bd3786\"], [0.5555555555555556, \"#d8576b\"], [0.6666666666666666, \"#ed7953\"], [0.7777777777777778, \"#fb9f3a\"], [0.8888888888888888, \"#fdca26\"], [1.0, \"#f0f921\"]], \"type\": \"heatmapgl\"}], \"histogram\": [{\"marker\": {\"colorbar\": {\"outlinewidth\": 0, \"ticks\": \"\"}}, \"type\": \"histogram\"}], \"histogram2d\": [{\"colorbar\": {\"outlinewidth\": 0, \"ticks\": \"\"}, \"colorscale\": [[0.0, \"#0d0887\"], [0.1111111111111111, \"#46039f\"], [0.2222222222222222, \"#7201a8\"], [0.3333333333333333, \"#9c179e\"], [0.4444444444444444, \"#bd3786\"], [0.5555555555555556, \"#d8576b\"], [0.6666666666666666, \"#ed7953\"], [0.7777777777777778, \"#fb9f3a\"], [0.8888888888888888, \"#fdca26\"], [1.0, \"#f0f921\"]], \"type\": \"histogram2d\"}], \"histogram2dcontour\": [{\"colorbar\": {\"outlinewidth\": 0, \"ticks\": \"\"}, \"colorscale\": [[0.0, \"#0d0887\"], [0.1111111111111111, \"#46039f\"], [0.2222222222222222, \"#7201a8\"], [0.3333333333333333, \"#9c179e\"], [0.4444444444444444, \"#bd3786\"], [0.5555555555555556, \"#d8576b\"], [0.6666666666666666, \"#ed7953\"], [0.7777777777777778, \"#fb9f3a\"], [0.8888888888888888, \"#fdca26\"], [1.0, \"#f0f921\"]], \"type\": \"histogram2dcontour\"}], \"mesh3d\": [{\"colorbar\": {\"outlinewidth\": 0, \"ticks\": \"\"}, \"type\": \"mesh3d\"}], \"parcoords\": [{\"line\": {\"colorbar\": {\"outlinewidth\": 0, \"ticks\": \"\"}}, \"type\": \"parcoords\"}], \"pie\": [{\"automargin\": true, \"type\": \"pie\"}], \"scatter\": [{\"marker\": {\"colorbar\": {\"outlinewidth\": 0, \"ticks\": \"\"}}, \"type\": \"scatter\"}], \"scatter3d\": [{\"line\": {\"colorbar\": {\"outlinewidth\": 0, \"ticks\": \"\"}}, \"marker\": {\"colorbar\": {\"outlinewidth\": 0, \"ticks\": \"\"}}, \"type\": \"scatter3d\"}], \"scattercarpet\": [{\"marker\": {\"colorbar\": {\"outlinewidth\": 0, \"ticks\": \"\"}}, \"type\": \"scattercarpet\"}], \"scattergeo\": [{\"marker\": {\"colorbar\": {\"outlinewidth\": 0, \"ticks\": \"\"}}, \"type\": \"scattergeo\"}], \"scattergl\": [{\"marker\": {\"colorbar\": {\"outlinewidth\": 0, \"ticks\": \"\"}}, \"type\": \"scattergl\"}], \"scattermapbox\": [{\"marker\": {\"colorbar\": {\"outlinewidth\": 0, \"ticks\": \"\"}}, \"type\": \"scattermapbox\"}], \"scatterpolar\": [{\"marker\": {\"colorbar\": {\"outlinewidth\": 0, \"ticks\": \"\"}}, \"type\": \"scatterpolar\"}], \"scatterpolargl\": [{\"marker\": {\"colorbar\": {\"outlinewidth\": 0, \"ticks\": \"\"}}, \"type\": \"scatterpolargl\"}], \"scatterternary\": [{\"marker\": {\"colorbar\": {\"outlinewidth\": 0, \"ticks\": \"\"}}, \"type\": \"scatterternary\"}], \"surface\": [{\"colorbar\": {\"outlinewidth\": 0, \"ticks\": \"\"}, \"colorscale\": [[0.0, \"#0d0887\"], [0.1111111111111111, \"#46039f\"], [0.2222222222222222, \"#7201a8\"], [0.3333333333333333, \"#9c179e\"], [0.4444444444444444, \"#bd3786\"], [0.5555555555555556, \"#d8576b\"], [0.6666666666666666, \"#ed7953\"], [0.7777777777777778, \"#fb9f3a\"], [0.8888888888888888, \"#fdca26\"], [1.0, \"#f0f921\"]], \"type\": \"surface\"}], \"table\": [{\"cells\": {\"fill\": {\"color\": \"#EBF0F8\"}, \"line\": {\"color\": \"white\"}}, \"header\": {\"fill\": {\"color\": \"#C8D4E3\"}, \"line\": {\"color\": \"white\"}}, \"type\": \"table\"}]}, \"layout\": {\"annotationdefaults\": {\"arrowcolor\": \"#2a3f5f\", \"arrowhead\": 0, \"arrowwidth\": 1}, \"autotypenumbers\": \"strict\", \"coloraxis\": {\"colorbar\": {\"outlinewidth\": 0, \"ticks\": \"\"}}, \"colorscale\": {\"diverging\": [[0, \"#8e0152\"], [0.1, \"#c51b7d\"], [0.2, \"#de77ae\"], [0.3, \"#f1b6da\"], [0.4, \"#fde0ef\"], [0.5, \"#f7f7f7\"], [0.6, \"#e6f5d0\"], [0.7, \"#b8e186\"], [0.8, \"#7fbc41\"], [0.9, \"#4d9221\"], [1, \"#276419\"]], \"sequential\": [[0.0, \"#0d0887\"], [0.1111111111111111, \"#46039f\"], [0.2222222222222222, \"#7201a8\"], [0.3333333333333333, \"#9c179e\"], [0.4444444444444444, \"#bd3786\"], [0.5555555555555556, \"#d8576b\"], [0.6666666666666666, \"#ed7953\"], [0.7777777777777778, \"#fb9f3a\"], [0.8888888888888888, \"#fdca26\"], [1.0, \"#f0f921\"]], \"sequentialminus\": [[0.0, \"#0d0887\"], [0.1111111111111111, \"#46039f\"], [0.2222222222222222, \"#7201a8\"], [0.3333333333333333, \"#9c179e\"], [0.4444444444444444, \"#bd3786\"], [0.5555555555555556, \"#d8576b\"], [0.6666666666666666, \"#ed7953\"], [0.7777777777777778, \"#fb9f3a\"], [0.8888888888888888, \"#fdca26\"], [1.0, \"#f0f921\"]]}, \"colorway\": [\"#636efa\", \"#EF553B\", \"#00cc96\", \"#ab63fa\", \"#FFA15A\", \"#19d3f3\", \"#FF6692\", \"#B6E880\", \"#FF97FF\", \"#FECB52\"], \"font\": {\"color\": \"#2a3f5f\"}, \"geo\": {\"bgcolor\": \"white\", \"lakecolor\": \"white\", \"landcolor\": \"#E5ECF6\", \"showlakes\": true, \"showland\": true, \"subunitcolor\": \"white\"}, \"hoverlabel\": {\"align\": \"left\"}, \"hovermode\": \"closest\", \"mapbox\": {\"style\": \"light\"}, \"paper_bgcolor\": \"white\", \"plot_bgcolor\": \"#E5ECF6\", \"polar\": {\"angularaxis\": {\"gridcolor\": \"white\", \"linecolor\": \"white\", \"ticks\": \"\"}, \"bgcolor\": \"#E5ECF6\", \"radialaxis\": {\"gridcolor\": \"white\", \"linecolor\": \"white\", \"ticks\": \"\"}}, \"scene\": {\"xaxis\": {\"backgroundcolor\": \"#E5ECF6\", \"gridcolor\": \"white\", \"gridwidth\": 2, \"linecolor\": \"white\", \"showbackground\": true, \"ticks\": \"\", \"zerolinecolor\": \"white\"}, \"yaxis\": {\"backgroundcolor\": \"#E5ECF6\", \"gridcolor\": \"white\", \"gridwidth\": 2, \"linecolor\": \"white\", \"showbackground\": true, \"ticks\": \"\", \"zerolinecolor\": \"white\"}, \"zaxis\": {\"backgroundcolor\": \"#E5ECF6\", \"gridcolor\": \"white\", \"gridwidth\": 2, \"linecolor\": \"white\", \"showbackground\": true, \"ticks\": \"\", \"zerolinecolor\": \"white\"}}, \"shapedefaults\": {\"line\": {\"color\": \"#2a3f5f\"}}, \"ternary\": {\"aaxis\": {\"gridcolor\": \"white\", \"linecolor\": \"white\", \"ticks\": \"\"}, \"baxis\": {\"gridcolor\": \"white\", \"linecolor\": \"white\", \"ticks\": \"\"}, \"bgcolor\": \"#E5ECF6\", \"caxis\": {\"gridcolor\": \"white\", \"linecolor\": \"white\", \"ticks\": \"\"}}, \"title\": {\"x\": 0.05}, \"xaxis\": {\"automargin\": true, \"gridcolor\": \"white\", \"linecolor\": \"white\", \"ticks\": \"\", \"title\": {\"standoff\": 15}, \"zerolinecolor\": \"white\", \"zerolinewidth\": 2}, \"yaxis\": {\"automargin\": true, \"gridcolor\": \"white\", \"linecolor\": \"white\", \"ticks\": \"\", \"title\": {\"standoff\": 15}, \"zerolinecolor\": \"white\", \"zerolinewidth\": 2}}}, \"title\": {\"text\": \"% of High School Athletes competing in NCAA\"}, \"xaxis\": {\"anchor\": \"y\", \"domain\": [0.0, 1.0], \"title\": {\"text\": \"Sport\"}}, \"yaxis\": {\"anchor\": \"x\", \"domain\": [0.0, 1.0], \"title\": {\"text\": \"Overall % HS to NCAA\"}}},                        {\"responsive\": true}                    ).then(function(){\n",
              "                            \n",
              "var gd = document.getElementById('bd3ee371-c105-4a3c-bd0c-86327b88e27e');\n",
              "var x = new MutationObserver(function (mutations, observer) {{\n",
              "        var display = window.getComputedStyle(gd).display;\n",
              "        if (!display || display === 'none') {{\n",
              "            console.log([gd, 'removed!']);\n",
              "            Plotly.purge(gd);\n",
              "            observer.disconnect();\n",
              "        }}\n",
              "}});\n",
              "\n",
              "// Listen for the removal of the full notebook cells\n",
              "var notebookContainer = gd.closest('#notebook-container');\n",
              "if (notebookContainer) {{\n",
              "    x.observe(notebookContainer, {childList: true});\n",
              "}}\n",
              "\n",
              "// Listen for the clearing of the current output cell\n",
              "var outputEl = gd.closest('.output');\n",
              "if (outputEl) {{\n",
              "    x.observe(outputEl, {childList: true});\n",
              "}}\n",
              "\n",
              "                        })                };                            </script>        </div>\n",
              "</body>\n",
              "</html>"
            ]
          },
          "metadata": {
            "tags": []
          }
        }
      ]
    },
    {
      "cell_type": "markdown",
      "metadata": {
        "id": "HkYVN71FPIXE"
      },
      "source": [
        "# Interpretations and conclusions\n",
        "\n",
        "I found that athletics related college admissions do have a higher rate of admission, but this primarily benefits wealthy white individuals. Further exploration can uncover the exact changes in admission rates and potential ways to benefit all qualified student-athletes equally, regardless of their SES.\n",
        "\n",
        "# Future directions\n",
        "\n",
        "A starting point for future directions could be identifying which colleges in particular are more \"unfair\" than others in order to understand why that is and how we can fix it."
      ]
    }
  ]
}